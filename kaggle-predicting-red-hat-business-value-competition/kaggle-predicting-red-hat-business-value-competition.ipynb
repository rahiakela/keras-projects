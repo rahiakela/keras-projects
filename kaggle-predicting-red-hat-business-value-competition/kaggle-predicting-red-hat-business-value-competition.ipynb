{
 "cells": [
  {
   "cell_type": "code",
   "execution_count": 1,
   "metadata": {},
   "outputs": [],
   "source": [
    "#############################################################\n",
    "#       Predicting Red Hat Business Value \n",
    "#############################################################\n",
    "\"\"\"\n",
    "Reference: https://www.kaggle.com/c/predicting-red-hat-business-value\n",
    "\n",
    "The organization is an American multinational software company that provides open source software products to the \n",
    "enterprise community.Their primary product is Red Hat Enterprise Linux, the most popular distribution of Linux OS, \n",
    "used by various large enterprises. In its services, it helps organizations align their IT strategies by providing \n",
    "enterprise-grade solutions through an open business model and an affordable, predictable subscription model. \n",
    "These subscriptions from large enterprise customers create a substantial part of their revenue, and therefore it is \n",
    "of paramount importance for them to understand their valuable customers and serve them better by prioritizing \n",
    "resources and strategies to drive improved business value.\n",
    "\n",
    "How Can We Identify a Potential Customer?\n",
    "Red Hat has been in existence for over 25 years. In the long stint of business, they have accumulated and captured \n",
    "a vast amount of data from customer interactions and their descriptive attributes. This rich source of data could \n",
    "be a gold mine of patterns that can help in identifying a potential customer by studying the vast and complex \n",
    "historical patterns in the interaction data.\n",
    "With the ever-growing popularity and prowess of DL, we can develop a DNN that can learn from historic customer \n",
    "attributes and operational interaction data to understand the deep patterns and predict whether a new customer will\n",
    "potentially be a high-value customer for various business services.\n",
    "Therefore, we will develop and train a DNN to learn the chances that a customer will be a potential high-value \n",
    "customer, using various customer attributes and operational interaction attributes.\n",
    "\"\"\"\n",
    "# Exploring the Data\n",
    "import numpy as np\n",
    "import pandas as pd\n",
    "import matplotlib.pyplot as plt\n",
    "import seaborn as sns"
   ]
  },
  {
   "cell_type": "code",
   "execution_count": 2,
   "metadata": {},
   "outputs": [],
   "source": [
    "# Import the 2 datasets provided in the Zip Folder\n",
    "act_train = pd.read_csv('D:\\\\ml-data\\\\predicting-red-hat-business-value\\\\act_train.csv')\n",
    "people = pd.read_csv('D:\\\\ml-data\\\\predicting-red-hat-business-value\\\\people.csv')"
   ]
  },
  {
   "cell_type": "code",
   "execution_count": 3,
   "metadata": {},
   "outputs": [
    {
     "name": "stdout",
     "output_type": "stream",
     "text": [
      "Shape of DF: (2197291, 15)\n",
      "Shape of People DF: (189118, 41)\n"
     ]
    }
   ],
   "source": [
    "# Explore the shape of the datasets\n",
    "print('Shape of DF:', act_train.shape)\n",
    "print('Shape of People DF:', people.shape)"
   ]
  },
  {
   "cell_type": "code",
   "execution_count": 4,
   "metadata": {},
   "outputs": [
    {
     "data": {
      "text/html": [
       "<div>\n",
       "<style scoped>\n",
       "    .dataframe tbody tr th:only-of-type {\n",
       "        vertical-align: middle;\n",
       "    }\n",
       "\n",
       "    .dataframe tbody tr th {\n",
       "        vertical-align: top;\n",
       "    }\n",
       "\n",
       "    .dataframe thead th {\n",
       "        text-align: right;\n",
       "    }\n",
       "</style>\n",
       "<table border=\"1\" class=\"dataframe\">\n",
       "  <thead>\n",
       "    <tr style=\"text-align: right;\">\n",
       "      <th></th>\n",
       "      <th>people_id</th>\n",
       "      <th>activity_id</th>\n",
       "      <th>date</th>\n",
       "      <th>activity_category</th>\n",
       "      <th>char_1</th>\n",
       "      <th>char_2</th>\n",
       "      <th>char_3</th>\n",
       "      <th>char_4</th>\n",
       "      <th>char_5</th>\n",
       "      <th>char_6</th>\n",
       "      <th>char_7</th>\n",
       "      <th>char_8</th>\n",
       "      <th>char_9</th>\n",
       "      <th>char_10</th>\n",
       "      <th>outcome</th>\n",
       "    </tr>\n",
       "  </thead>\n",
       "  <tbody>\n",
       "    <tr>\n",
       "      <th>0</th>\n",
       "      <td>ppl_100</td>\n",
       "      <td>act2_1734928</td>\n",
       "      <td>2023-08-26</td>\n",
       "      <td>type 4</td>\n",
       "      <td>NaN</td>\n",
       "      <td>NaN</td>\n",
       "      <td>NaN</td>\n",
       "      <td>NaN</td>\n",
       "      <td>NaN</td>\n",
       "      <td>NaN</td>\n",
       "      <td>NaN</td>\n",
       "      <td>NaN</td>\n",
       "      <td>NaN</td>\n",
       "      <td>type 76</td>\n",
       "      <td>0</td>\n",
       "    </tr>\n",
       "    <tr>\n",
       "      <th>1</th>\n",
       "      <td>ppl_100</td>\n",
       "      <td>act2_2434093</td>\n",
       "      <td>2022-09-27</td>\n",
       "      <td>type 2</td>\n",
       "      <td>NaN</td>\n",
       "      <td>NaN</td>\n",
       "      <td>NaN</td>\n",
       "      <td>NaN</td>\n",
       "      <td>NaN</td>\n",
       "      <td>NaN</td>\n",
       "      <td>NaN</td>\n",
       "      <td>NaN</td>\n",
       "      <td>NaN</td>\n",
       "      <td>type 1</td>\n",
       "      <td>0</td>\n",
       "    </tr>\n",
       "    <tr>\n",
       "      <th>2</th>\n",
       "      <td>ppl_100</td>\n",
       "      <td>act2_3404049</td>\n",
       "      <td>2022-09-27</td>\n",
       "      <td>type 2</td>\n",
       "      <td>NaN</td>\n",
       "      <td>NaN</td>\n",
       "      <td>NaN</td>\n",
       "      <td>NaN</td>\n",
       "      <td>NaN</td>\n",
       "      <td>NaN</td>\n",
       "      <td>NaN</td>\n",
       "      <td>NaN</td>\n",
       "      <td>NaN</td>\n",
       "      <td>type 1</td>\n",
       "      <td>0</td>\n",
       "    </tr>\n",
       "    <tr>\n",
       "      <th>3</th>\n",
       "      <td>ppl_100</td>\n",
       "      <td>act2_3651215</td>\n",
       "      <td>2023-08-04</td>\n",
       "      <td>type 2</td>\n",
       "      <td>NaN</td>\n",
       "      <td>NaN</td>\n",
       "      <td>NaN</td>\n",
       "      <td>NaN</td>\n",
       "      <td>NaN</td>\n",
       "      <td>NaN</td>\n",
       "      <td>NaN</td>\n",
       "      <td>NaN</td>\n",
       "      <td>NaN</td>\n",
       "      <td>type 1</td>\n",
       "      <td>0</td>\n",
       "    </tr>\n",
       "    <tr>\n",
       "      <th>4</th>\n",
       "      <td>ppl_100</td>\n",
       "      <td>act2_4109017</td>\n",
       "      <td>2023-08-26</td>\n",
       "      <td>type 2</td>\n",
       "      <td>NaN</td>\n",
       "      <td>NaN</td>\n",
       "      <td>NaN</td>\n",
       "      <td>NaN</td>\n",
       "      <td>NaN</td>\n",
       "      <td>NaN</td>\n",
       "      <td>NaN</td>\n",
       "      <td>NaN</td>\n",
       "      <td>NaN</td>\n",
       "      <td>type 1</td>\n",
       "      <td>0</td>\n",
       "    </tr>\n",
       "  </tbody>\n",
       "</table>\n",
       "</div>"
      ],
      "text/plain": [
       "  people_id   activity_id        date activity_category char_1 char_2 char_3  \\\n",
       "0   ppl_100  act2_1734928  2023-08-26            type 4    NaN    NaN    NaN   \n",
       "1   ppl_100  act2_2434093  2022-09-27            type 2    NaN    NaN    NaN   \n",
       "2   ppl_100  act2_3404049  2022-09-27            type 2    NaN    NaN    NaN   \n",
       "3   ppl_100  act2_3651215  2023-08-04            type 2    NaN    NaN    NaN   \n",
       "4   ppl_100  act2_4109017  2023-08-26            type 2    NaN    NaN    NaN   \n",
       "\n",
       "  char_4 char_5 char_6 char_7 char_8 char_9  char_10  outcome  \n",
       "0    NaN    NaN    NaN    NaN    NaN    NaN  type 76        0  \n",
       "1    NaN    NaN    NaN    NaN    NaN    NaN   type 1        0  \n",
       "2    NaN    NaN    NaN    NaN    NaN    NaN   type 1        0  \n",
       "3    NaN    NaN    NaN    NaN    NaN    NaN   type 1        0  \n",
       "4    NaN    NaN    NaN    NaN    NaN    NaN   type 1        0  "
      ]
     },
     "execution_count": 4,
     "metadata": {},
     "output_type": "execute_result"
    }
   ],
   "source": [
    "# Explore the contents of the first dataset\n",
    "act_train.head()"
   ]
  },
  {
   "cell_type": "code",
   "execution_count": 5,
   "metadata": {},
   "outputs": [
    {
     "data": {
      "text/plain": [
       "people_id                  0\n",
       "activity_id                0\n",
       "date                       0\n",
       "activity_category          0\n",
       "char_1               2039676\n",
       "char_2               2039676\n",
       "char_3               2039676\n",
       "char_4               2039676\n",
       "char_5               2039676\n",
       "char_6               2039676\n",
       "char_7               2039676\n",
       "char_8               2039676\n",
       "char_9               2039676\n",
       "char_10               157615\n",
       "outcome                    0\n",
       "dtype: int64"
      ]
     },
     "execution_count": 5,
     "metadata": {},
     "output_type": "execute_result"
    }
   ],
   "source": [
    "\"\"\"\n",
    "Exploring the contents of the training dataset, we can see that it mostly has customer interaction data but is \n",
    "completely anonymized. Given the confidentiality of customers and their attributes, the entire data is anonymized,\n",
    "and this leaves us with little knowledge about its true nature. This is a common problem in data science. Quite \n",
    "often, the team that develops DL models faces the challenge of the data confidentiality of the end customer and is \n",
    "therefore provided only anonymized and sometimes encrypted data. This still shouldn’t be a roadblock. It is \n",
    "definitely best to have a data dictionary and complete understanding of the dataset, but nevertheless, we can still\n",
    "develop models with the provided information.\n",
    "\"\"\"\n",
    "# Calculating the % of Null values in each column for activity data\n",
    "act_train.isnull().sum()  # show sum of null"
   ]
  },
  {
   "cell_type": "code",
   "execution_count": 6,
   "metadata": {},
   "outputs": [
    {
     "data": {
      "text/plain": [
       "2197291"
      ]
     },
     "execution_count": 6,
     "metadata": {},
     "output_type": "execute_result"
    }
   ],
   "source": [
    "act_train.shape[0]  # show total row count"
   ]
  },
  {
   "cell_type": "code",
   "execution_count": 7,
   "metadata": {},
   "outputs": [
    {
     "data": {
      "text/plain": [
       "people_id            0.000000\n",
       "activity_id          0.000000\n",
       "date                 0.000000\n",
       "activity_category    0.000000\n",
       "char_1               0.928268\n",
       "char_2               0.928268\n",
       "char_3               0.928268\n",
       "char_4               0.928268\n",
       "char_5               0.928268\n",
       "char_6               0.928268\n",
       "char_7               0.928268\n",
       "char_8               0.928268\n",
       "char_9               0.928268\n",
       "char_10              0.071732\n",
       "outcome              0.000000\n",
       "dtype: float64"
      ]
     },
     "execution_count": 7,
     "metadata": {},
     "output_type": "execute_result"
    }
   ],
   "source": [
    "# calculate percentage of null by dividing total null by total row count\n",
    "act_train.isnull().sum() / act_train.shape[0]"
   ]
  },
  {
   "cell_type": "code",
   "execution_count": 8,
   "metadata": {},
   "outputs": [
    {
     "data": {
      "text/html": [
       "<div>\n",
       "<style scoped>\n",
       "    .dataframe tbody tr th:only-of-type {\n",
       "        vertical-align: middle;\n",
       "    }\n",
       "\n",
       "    .dataframe tbody tr th {\n",
       "        vertical-align: top;\n",
       "    }\n",
       "\n",
       "    .dataframe thead th {\n",
       "        text-align: right;\n",
       "    }\n",
       "</style>\n",
       "<table border=\"1\" class=\"dataframe\">\n",
       "  <thead>\n",
       "    <tr style=\"text-align: right;\">\n",
       "      <th></th>\n",
       "      <th>people_id</th>\n",
       "      <th>char_1</th>\n",
       "      <th>group_1</th>\n",
       "      <th>char_2</th>\n",
       "      <th>date</th>\n",
       "      <th>char_3</th>\n",
       "      <th>char_4</th>\n",
       "      <th>char_5</th>\n",
       "      <th>char_6</th>\n",
       "      <th>char_7</th>\n",
       "      <th>...</th>\n",
       "      <th>char_29</th>\n",
       "      <th>char_30</th>\n",
       "      <th>char_31</th>\n",
       "      <th>char_32</th>\n",
       "      <th>char_33</th>\n",
       "      <th>char_34</th>\n",
       "      <th>char_35</th>\n",
       "      <th>char_36</th>\n",
       "      <th>char_37</th>\n",
       "      <th>char_38</th>\n",
       "    </tr>\n",
       "  </thead>\n",
       "  <tbody>\n",
       "    <tr>\n",
       "      <th>0</th>\n",
       "      <td>ppl_100</td>\n",
       "      <td>type 2</td>\n",
       "      <td>group 17304</td>\n",
       "      <td>type 2</td>\n",
       "      <td>2021-06-29</td>\n",
       "      <td>type 5</td>\n",
       "      <td>type 5</td>\n",
       "      <td>type 5</td>\n",
       "      <td>type 3</td>\n",
       "      <td>type 11</td>\n",
       "      <td>...</td>\n",
       "      <td>False</td>\n",
       "      <td>True</td>\n",
       "      <td>True</td>\n",
       "      <td>False</td>\n",
       "      <td>False</td>\n",
       "      <td>True</td>\n",
       "      <td>True</td>\n",
       "      <td>True</td>\n",
       "      <td>False</td>\n",
       "      <td>36</td>\n",
       "    </tr>\n",
       "    <tr>\n",
       "      <th>1</th>\n",
       "      <td>ppl_100002</td>\n",
       "      <td>type 2</td>\n",
       "      <td>group 8688</td>\n",
       "      <td>type 3</td>\n",
       "      <td>2021-01-06</td>\n",
       "      <td>type 28</td>\n",
       "      <td>type 9</td>\n",
       "      <td>type 5</td>\n",
       "      <td>type 3</td>\n",
       "      <td>type 11</td>\n",
       "      <td>...</td>\n",
       "      <td>False</td>\n",
       "      <td>True</td>\n",
       "      <td>True</td>\n",
       "      <td>True</td>\n",
       "      <td>True</td>\n",
       "      <td>True</td>\n",
       "      <td>True</td>\n",
       "      <td>True</td>\n",
       "      <td>False</td>\n",
       "      <td>76</td>\n",
       "    </tr>\n",
       "    <tr>\n",
       "      <th>2</th>\n",
       "      <td>ppl_100003</td>\n",
       "      <td>type 2</td>\n",
       "      <td>group 33592</td>\n",
       "      <td>type 3</td>\n",
       "      <td>2022-06-10</td>\n",
       "      <td>type 4</td>\n",
       "      <td>type 8</td>\n",
       "      <td>type 5</td>\n",
       "      <td>type 2</td>\n",
       "      <td>type 5</td>\n",
       "      <td>...</td>\n",
       "      <td>False</td>\n",
       "      <td>False</td>\n",
       "      <td>True</td>\n",
       "      <td>True</td>\n",
       "      <td>True</td>\n",
       "      <td>True</td>\n",
       "      <td>False</td>\n",
       "      <td>True</td>\n",
       "      <td>True</td>\n",
       "      <td>99</td>\n",
       "    </tr>\n",
       "    <tr>\n",
       "      <th>3</th>\n",
       "      <td>ppl_100004</td>\n",
       "      <td>type 2</td>\n",
       "      <td>group 22593</td>\n",
       "      <td>type 3</td>\n",
       "      <td>2022-07-20</td>\n",
       "      <td>type 40</td>\n",
       "      <td>type 25</td>\n",
       "      <td>type 9</td>\n",
       "      <td>type 4</td>\n",
       "      <td>type 16</td>\n",
       "      <td>...</td>\n",
       "      <td>True</td>\n",
       "      <td>True</td>\n",
       "      <td>True</td>\n",
       "      <td>True</td>\n",
       "      <td>True</td>\n",
       "      <td>True</td>\n",
       "      <td>True</td>\n",
       "      <td>True</td>\n",
       "      <td>True</td>\n",
       "      <td>76</td>\n",
       "    </tr>\n",
       "    <tr>\n",
       "      <th>4</th>\n",
       "      <td>ppl_100006</td>\n",
       "      <td>type 2</td>\n",
       "      <td>group 6534</td>\n",
       "      <td>type 3</td>\n",
       "      <td>2022-07-27</td>\n",
       "      <td>type 40</td>\n",
       "      <td>type 25</td>\n",
       "      <td>type 9</td>\n",
       "      <td>type 3</td>\n",
       "      <td>type 8</td>\n",
       "      <td>...</td>\n",
       "      <td>False</td>\n",
       "      <td>False</td>\n",
       "      <td>True</td>\n",
       "      <td>False</td>\n",
       "      <td>False</td>\n",
       "      <td>False</td>\n",
       "      <td>True</td>\n",
       "      <td>True</td>\n",
       "      <td>False</td>\n",
       "      <td>84</td>\n",
       "    </tr>\n",
       "  </tbody>\n",
       "</table>\n",
       "<p>5 rows × 41 columns</p>\n",
       "</div>"
      ],
      "text/plain": [
       "    people_id  char_1      group_1  char_2        date   char_3   char_4  \\\n",
       "0     ppl_100  type 2  group 17304  type 2  2021-06-29   type 5   type 5   \n",
       "1  ppl_100002  type 2   group 8688  type 3  2021-01-06  type 28   type 9   \n",
       "2  ppl_100003  type 2  group 33592  type 3  2022-06-10   type 4   type 8   \n",
       "3  ppl_100004  type 2  group 22593  type 3  2022-07-20  type 40  type 25   \n",
       "4  ppl_100006  type 2   group 6534  type 3  2022-07-27  type 40  type 25   \n",
       "\n",
       "   char_5  char_6   char_7  ... char_29 char_30  char_31  char_32  char_33  \\\n",
       "0  type 5  type 3  type 11  ...   False    True     True    False    False   \n",
       "1  type 5  type 3  type 11  ...   False    True     True     True     True   \n",
       "2  type 5  type 2   type 5  ...   False   False     True     True     True   \n",
       "3  type 9  type 4  type 16  ...    True    True     True     True     True   \n",
       "4  type 9  type 3   type 8  ...   False   False     True    False    False   \n",
       "\n",
       "   char_34  char_35  char_36  char_37  char_38  \n",
       "0     True     True     True    False       36  \n",
       "1     True     True     True    False       76  \n",
       "2     True    False     True     True       99  \n",
       "3     True     True     True     True       76  \n",
       "4    False     True     True    False       84  \n",
       "\n",
       "[5 rows x 41 columns]"
      ]
     },
     "execution_count": 8,
     "metadata": {},
     "output_type": "execute_result"
    }
   ],
   "source": [
    "\"\"\"\n",
    "Around nine features have more than 90% null values. We can’t do much to fix these features. Let’s move ahead\n",
    "and have a look at the people dataset.\n",
    "\"\"\"\n",
    "# Explore the contents of People dataset\n",
    "people.head()"
   ]
  },
  {
   "cell_type": "code",
   "execution_count": 9,
   "metadata": {},
   "outputs": [
    {
     "data": {
      "text/plain": [
       "0"
      ]
     },
     "execution_count": 9,
     "metadata": {},
     "output_type": "execute_result"
    }
   ],
   "source": [
    "\"\"\"\n",
    "Let’s check how many missing data points the customer dataset has. Since the customer dataset has around 40+ \n",
    "features, we can combine the missing value percentages for all columns together with the preceding code, \n",
    "instead of looking at each column individually.\n",
    "\"\"\"\n",
    "# Calculate the % of null values in for the entire dataset\n",
    "people.isnull().sum().sum()"
   ]
  },
  {
   "cell_type": "code",
   "execution_count": 10,
   "metadata": {},
   "outputs": [
    {
     "name": "stdout",
     "output_type": "stream",
     "text": [
      "Columns to remove: ['char_1', 'char_2', 'char_3', 'char_4', 'char_5', 'char_6', 'char_7', 'char_8', 'char_9']\n",
      "Shape of DF: (2197291, 6)\n"
     ]
    }
   ],
   "source": [
    "\"\"\"\n",
    "And we see that none of the columns in the customer dataset has missing values.\n",
    "\n",
    "To create a consolidated dataset, we need to join the activity and customer data on the people_id key. But before\n",
    "we do that, we need to take care of a few things. We need to drop the columns in the activity data that have 90%\n",
    "missing values, as they cannot be fixed. Secondly, the “date” and “char_10” columns are present in both datasets.\n",
    "In order to avoid a name clash, let us rename the “date” column in the activity dataset to “activity_date” and \n",
    "“char_10” in the activity data as “activity_type.” Next, we also need to fix the missing values in the \n",
    "“activity_type” column. Once these two tasks are accomplished, we will join the two datasets and explore the\n",
    "consolidated data.\n",
    "\"\"\"\n",
    "# Create the list of columns to drop from activity data\n",
    "columns_to_remove = ['char_' + str(x) for x in np.arange(1, 10)]\n",
    "print('Columns to remove:', columns_to_remove)\n",
    "\n",
    "# Remove the columns from the activity data\n",
    "act_train = act_train[list(set(act_train.columns) - set(columns_to_remove))]\n",
    "\n",
    "# Rename the 2 columns to avoid name clashes in merged data\n",
    "act_train = act_train.rename(columns={'date': 'activity_date', 'char_10': 'activity_type'})\n",
    "\n",
    "# Replace nulls in the activity_type column with the mode\n",
    "act_train['activity_type'] = act_train['activity_type'].fillna(act_train['activity_type'].mode()[0])\n",
    "\n",
    "# Print the shape of the final activity dataset\n",
    "print('Shape of DF:', act_train.shape)"
   ]
  },
  {
   "cell_type": "code",
   "execution_count": 11,
   "metadata": {},
   "outputs": [
    {
     "name": "stdout",
     "output_type": "stream",
     "text": [
      "Shape before merging: (2197291, 6)\n",
      "Shape after merging : (2197291, 46)\n"
     ]
    }
   ],
   "source": [
    "# We can now join the two datasets to create a consolidate activity and customer attributes dataset.\n",
    "# Merge the 2 datasets on 'people_id' key\n",
    "merged_df = act_train.merge(people, on=['people_id'], how='inner')\n",
    "print('Shape before merging:', act_train.shape)\n",
    "print('Shape after merging :', merged_df.shape)"
   ]
  },
  {
   "cell_type": "code",
   "execution_count": 12,
   "metadata": {},
   "outputs": [
    {
     "name": "stdout",
     "output_type": "stream",
     "text": [
      "Unique values for outcome: [0 1]\n",
      "\n",
      "Percentage of distribution for outcome-\n",
      "0    0.556046\n",
      "1    0.443954\n",
      "Name: outcome, dtype: float64\n"
     ]
    }
   ],
   "source": [
    "\"\"\"\n",
    "Let us now study the target (i.e., the variable we want to predict), named “outcome” in the dataset. We can check \n",
    "the distribution between potential vs. nonpotential customers.\n",
    "\"\"\"\n",
    "print('Unique values for outcome:', merged_df['outcome'].unique())\n",
    "print('\\nPercentage of distribution for outcome-')\n",
    "print(merged_df['outcome'].value_counts() / merged_df.shape[0])"
   ]
  },
  {
   "cell_type": "code",
   "execution_count": 13,
   "metadata": {},
   "outputs": [
    {
     "name": "stdout",
     "output_type": "stream",
     "text": [
      "Distinct DataTypes:  [dtype('O'), dtype('int64'), dtype('bool')]\n"
     ]
    }
   ],
   "source": [
    "\"\"\"\n",
    "We can see that there is a good mix in the distribution of potential customers, as around 45% are potential \n",
    "customers.\n",
    "\"\"\"\n",
    "\n",
    "###########################################\n",
    "#        Data Engineering\n",
    "###########################################\n",
    "\"\"\"\n",
    "Next, given that we have 45 columns altogether to explore and transform, let’s expedite the process by automating\n",
    "a few things.\n",
    "\"\"\"\n",
    "# Checking the distinct datatypes in the dataset.\n",
    "print('Distinct DataTypes: ', list(merged_df.dtypes.unique()))"
   ]
  },
  {
   "cell_type": "code",
   "execution_count": 14,
   "metadata": {},
   "outputs": [
    {
     "name": "stdout",
     "output_type": "stream",
     "text": [
      "Boolean columns - \n",
      " ['char_10' 'char_11' 'char_12' 'char_13' 'char_14' 'char_15' 'char_16'\n",
      " 'char_17' 'char_18' 'char_19' 'char_20' 'char_21' 'char_22' 'char_23'\n",
      " 'char_24' 'char_25' 'char_26' 'char_27' 'char_28' 'char_29' 'char_30'\n",
      " 'char_31' 'char_32' 'char_33' 'char_34' 'char_35' 'char_36' 'char_37']\n",
      "\n",
      "Distinct DataTypes after processing: [dtype('O') dtype('int64')]\n"
     ]
    }
   ],
   "source": [
    "\"\"\"\n",
    "We have numeric, categorical (Object), and Boolean features in the dataset. Boolean in Python represents a True \n",
    "or False value; we need to convert this into numeric (1 and 0) for the model to process the data.\n",
    "\"\"\"\n",
    "# Create a temp dataset with the datatype of columns\n",
    "temp = pd.DataFrame(merged_df.dtypes)\n",
    "temp.columns = ['DataType']\n",
    "\n",
    "# Create a list with names of all Boolean columns\n",
    "boolean_columns = temp.index[temp['DataType'] == 'bool'].values\n",
    "print('Boolean columns - \\n', boolean_columns)\n",
    "\n",
    "# Convert all boolean columns to Binary numeric values\n",
    "for column in boolean_columns:\n",
    "    merged_df[column] = np.where(merged_df[column] == True, 1, 0)\n",
    "\n",
    "print('\\nDistinct DataTypes after processing:', act_train.dtypes.unique())    "
   ]
  },
  {
   "cell_type": "code",
   "execution_count": 15,
   "metadata": {},
   "outputs": [
    {
     "name": "stdout",
     "output_type": "stream",
     "text": [
      "people_id column has :  151295 distinct values\n",
      "activity_category column has :  7 distinct values\n",
      "activity_id column has :  2197291 distinct values\n",
      "activity_date column has :  411 distinct values\n",
      "activity_type column has :  6515 distinct values\n",
      "char_1 column has :  2 distinct values\n",
      "group_1 column has :  29899 distinct values\n",
      "char_2 column has :  3 distinct values\n",
      "date column has :  1196 distinct values\n",
      "char_3 column has :  43 distinct values\n",
      "char_4 column has :  25 distinct values\n",
      "char_5 column has :  9 distinct values\n",
      "char_6 column has :  7 distinct values\n",
      "char_7 column has :  25 distinct values\n",
      "char_8 column has :  8 distinct values\n",
      "char_9 column has :  9 distinct values\n"
     ]
    }
   ],
   "source": [
    "\"\"\"\n",
    "Let us now have a look at the categorical features. We will first do a sanity check to understand the number of\n",
    "distinct values in each of the categorical features. If there are categorical features where there are unusually\n",
    "high numbers of distinct values, we have to decide if we can really convert them to a one-hot encoded structure \n",
    "for further processing.\n",
    "\"\"\"\n",
    "# Extracting the object columns from the above dataframe\n",
    "categorical_columns = temp.index[temp['DataType'] == 'O'].values\n",
    "# Check the number of distinct values in each categorical column\n",
    "for column in categorical_columns:\n",
    "    print(column +' column has : ', str(len(merged_df[column].unique())) + ' distinct values')   "
   ]
  },
  {
   "cell_type": "code",
   "execution_count": 16,
   "metadata": {},
   "outputs": [
    {
     "name": "stdout",
     "output_type": "stream",
     "text": [
      "Shape of data after create Date Features: (2197291, 56)\n"
     ]
    }
   ],
   "source": [
    "\"\"\"\n",
    "Let’s first fix the date-related columns and then huddle with the remaining categorical columns. The following code\n",
    "snippet converts the date values to new features and then deletes the actual column.\n",
    "\"\"\"\n",
    "# Create date related features for 'date' in customer data\n",
    "merged_df['date'] = pd.to_datetime(merged_df['date'])\n",
    "\n",
    "merged_df['Year'] = merged_df['date'].dt.year\n",
    "merged_df['Month'] = merged_df['date'].dt.month\n",
    "merged_df['Quarter'] = merged_df['date'].dt.quarter\n",
    "merged_df['Week'] = merged_df['date'].dt.week\n",
    "merged_df['WeekDay'] = merged_df['date'].dt.weekday\n",
    "merged_df['Day'] = merged_df['date'].dt.day\n",
    "\n",
    "# Create date related features for 'date' in activity data\n",
    "merged_df['activity_date'] = pd.to_datetime(merged_df['activity_date'])\n",
    "\n",
    "merged_df['Activity_Year'] = merged_df['activity_date'].dt.year\n",
    "merged_df['Activity_Month'] = merged_df['activity_date'].dt.month\n",
    "merged_df['Activity_Quarter'] = merged_df['activity_date'].dt.quarter\n",
    "merged_df['Activity_Week'] = merged_df['activity_date'].dt.week\n",
    "merged_df['Activity_WeekDay'] = merged_df['activity_date'].dt.weekday\n",
    "merged_df['Activity_Day'] = merged_df['activity_date'].dt.day\n",
    "\n",
    "# Delete the original date columns\n",
    "del(merged_df['date'])\n",
    "del(merged_df['activity_date'])\n",
    "\n",
    "print('Shape of data after create Date Features:', merged_df.shape)"
   ]
  },
  {
   "cell_type": "code",
   "execution_count": 17,
   "metadata": {},
   "outputs": [
    {
     "data": {
      "text/html": [
       "<div>\n",
       "<style scoped>\n",
       "    .dataframe tbody tr th:only-of-type {\n",
       "        vertical-align: middle;\n",
       "    }\n",
       "\n",
       "    .dataframe tbody tr th {\n",
       "        vertical-align: top;\n",
       "    }\n",
       "\n",
       "    .dataframe thead th {\n",
       "        text-align: right;\n",
       "    }\n",
       "</style>\n",
       "<table border=\"1\" class=\"dataframe\">\n",
       "  <thead>\n",
       "    <tr style=\"text-align: right;\">\n",
       "      <th></th>\n",
       "      <th>people_id</th>\n",
       "      <th>outcome</th>\n",
       "      <th>activity_category</th>\n",
       "      <th>activity_id</th>\n",
       "      <th>activity_type</th>\n",
       "      <th>char_1</th>\n",
       "      <th>group_1</th>\n",
       "      <th>char_2</th>\n",
       "      <th>char_3</th>\n",
       "      <th>char_4</th>\n",
       "      <th>...</th>\n",
       "      <th>Quarter</th>\n",
       "      <th>Week</th>\n",
       "      <th>WeekDay</th>\n",
       "      <th>Day</th>\n",
       "      <th>Activity_Year</th>\n",
       "      <th>Activity_Month</th>\n",
       "      <th>Activity_Quarter</th>\n",
       "      <th>Activity_Week</th>\n",
       "      <th>Activity_WeekDay</th>\n",
       "      <th>Activity_Day</th>\n",
       "    </tr>\n",
       "  </thead>\n",
       "  <tbody>\n",
       "    <tr>\n",
       "      <th>0</th>\n",
       "      <td>ppl_100</td>\n",
       "      <td>0</td>\n",
       "      <td>type 4</td>\n",
       "      <td>act2_1734928</td>\n",
       "      <td>type 76</td>\n",
       "      <td>type 2</td>\n",
       "      <td>group 17304</td>\n",
       "      <td>type 2</td>\n",
       "      <td>type 5</td>\n",
       "      <td>type 5</td>\n",
       "      <td>...</td>\n",
       "      <td>2</td>\n",
       "      <td>26</td>\n",
       "      <td>1</td>\n",
       "      <td>29</td>\n",
       "      <td>2023</td>\n",
       "      <td>8</td>\n",
       "      <td>3</td>\n",
       "      <td>34</td>\n",
       "      <td>5</td>\n",
       "      <td>26</td>\n",
       "    </tr>\n",
       "    <tr>\n",
       "      <th>1</th>\n",
       "      <td>ppl_100</td>\n",
       "      <td>0</td>\n",
       "      <td>type 2</td>\n",
       "      <td>act2_2434093</td>\n",
       "      <td>type 1</td>\n",
       "      <td>type 2</td>\n",
       "      <td>group 17304</td>\n",
       "      <td>type 2</td>\n",
       "      <td>type 5</td>\n",
       "      <td>type 5</td>\n",
       "      <td>...</td>\n",
       "      <td>2</td>\n",
       "      <td>26</td>\n",
       "      <td>1</td>\n",
       "      <td>29</td>\n",
       "      <td>2022</td>\n",
       "      <td>9</td>\n",
       "      <td>3</td>\n",
       "      <td>39</td>\n",
       "      <td>1</td>\n",
       "      <td>27</td>\n",
       "    </tr>\n",
       "    <tr>\n",
       "      <th>2</th>\n",
       "      <td>ppl_100</td>\n",
       "      <td>0</td>\n",
       "      <td>type 2</td>\n",
       "      <td>act2_3404049</td>\n",
       "      <td>type 1</td>\n",
       "      <td>type 2</td>\n",
       "      <td>group 17304</td>\n",
       "      <td>type 2</td>\n",
       "      <td>type 5</td>\n",
       "      <td>type 5</td>\n",
       "      <td>...</td>\n",
       "      <td>2</td>\n",
       "      <td>26</td>\n",
       "      <td>1</td>\n",
       "      <td>29</td>\n",
       "      <td>2022</td>\n",
       "      <td>9</td>\n",
       "      <td>3</td>\n",
       "      <td>39</td>\n",
       "      <td>1</td>\n",
       "      <td>27</td>\n",
       "    </tr>\n",
       "    <tr>\n",
       "      <th>3</th>\n",
       "      <td>ppl_100</td>\n",
       "      <td>0</td>\n",
       "      <td>type 2</td>\n",
       "      <td>act2_3651215</td>\n",
       "      <td>type 1</td>\n",
       "      <td>type 2</td>\n",
       "      <td>group 17304</td>\n",
       "      <td>type 2</td>\n",
       "      <td>type 5</td>\n",
       "      <td>type 5</td>\n",
       "      <td>...</td>\n",
       "      <td>2</td>\n",
       "      <td>26</td>\n",
       "      <td>1</td>\n",
       "      <td>29</td>\n",
       "      <td>2023</td>\n",
       "      <td>8</td>\n",
       "      <td>3</td>\n",
       "      <td>31</td>\n",
       "      <td>4</td>\n",
       "      <td>4</td>\n",
       "    </tr>\n",
       "    <tr>\n",
       "      <th>4</th>\n",
       "      <td>ppl_100</td>\n",
       "      <td>0</td>\n",
       "      <td>type 2</td>\n",
       "      <td>act2_4109017</td>\n",
       "      <td>type 1</td>\n",
       "      <td>type 2</td>\n",
       "      <td>group 17304</td>\n",
       "      <td>type 2</td>\n",
       "      <td>type 5</td>\n",
       "      <td>type 5</td>\n",
       "      <td>...</td>\n",
       "      <td>2</td>\n",
       "      <td>26</td>\n",
       "      <td>1</td>\n",
       "      <td>29</td>\n",
       "      <td>2023</td>\n",
       "      <td>8</td>\n",
       "      <td>3</td>\n",
       "      <td>34</td>\n",
       "      <td>5</td>\n",
       "      <td>26</td>\n",
       "    </tr>\n",
       "  </tbody>\n",
       "</table>\n",
       "<p>5 rows × 56 columns</p>\n",
       "</div>"
      ],
      "text/plain": [
       "  people_id  outcome activity_category   activity_id activity_type  char_1  \\\n",
       "0   ppl_100        0            type 4  act2_1734928       type 76  type 2   \n",
       "1   ppl_100        0            type 2  act2_2434093        type 1  type 2   \n",
       "2   ppl_100        0            type 2  act2_3404049        type 1  type 2   \n",
       "3   ppl_100        0            type 2  act2_3651215        type 1  type 2   \n",
       "4   ppl_100        0            type 2  act2_4109017        type 1  type 2   \n",
       "\n",
       "       group_1  char_2  char_3  char_4  ... Quarter Week WeekDay Day  \\\n",
       "0  group 17304  type 2  type 5  type 5  ...       2   26       1  29   \n",
       "1  group 17304  type 2  type 5  type 5  ...       2   26       1  29   \n",
       "2  group 17304  type 2  type 5  type 5  ...       2   26       1  29   \n",
       "3  group 17304  type 2  type 5  type 5  ...       2   26       1  29   \n",
       "4  group 17304  type 2  type 5  type 5  ...       2   26       1  29   \n",
       "\n",
       "  Activity_Year  Activity_Month  Activity_Quarter  Activity_Week  \\\n",
       "0          2023               8                 3             34   \n",
       "1          2022               9                 3             39   \n",
       "2          2022               9                 3             39   \n",
       "3          2023               8                 3             31   \n",
       "4          2023               8                 3             34   \n",
       "\n",
       "   Activity_WeekDay  Activity_Day  \n",
       "0                 5            26  \n",
       "1                 1            27  \n",
       "2                 1            27  \n",
       "3                 4             4  \n",
       "4                 5            26  \n",
       "\n",
       "[5 rows x 56 columns]"
      ]
     },
     "execution_count": 17,
     "metadata": {},
     "output_type": "execute_result"
    }
   ],
   "source": [
    "# show top 5 row\n",
    "merged_df.head()"
   ]
  },
  {
   "cell_type": "code",
   "execution_count": 18,
   "metadata": {},
   "outputs": [
    {
     "name": "stdout",
     "output_type": "stream",
     "text": [
      "  people_id activity_type   activity_id      group_1\n",
      "0   ppl_100       type 76  act2_1734928  group 17304\n",
      "1   ppl_100        type 1  act2_2434093  group 17304\n",
      "2   ppl_100        type 1  act2_3404049  group 17304\n",
      "3   ppl_100        type 1  act2_3651215  group 17304\n",
      "4   ppl_100        type 1  act2_4109017  group 17304\n"
     ]
    }
   ],
   "source": [
    "\"\"\"\n",
    "Let us now have a look at the remaining categorical columns, which have very high numbers of distinct values.\n",
    "\"\"\"\n",
    "print(merged_df[['people_id', 'activity_type', 'activity_id', 'group_1']].head())"
   ]
  },
  {
   "cell_type": "code",
   "execution_count": 19,
   "metadata": {},
   "outputs": [
    {
     "name": "stdout",
     "output_type": "stream",
     "text": [
      "   people_id  activity_id  activity_type  group_1\n",
      "0      100.0    1734928.0             76    17304\n",
      "1      100.0    2434093.0              1    17304\n",
      "2      100.0    3404049.0              1    17304\n",
      "3      100.0    3651215.0              1    17304\n",
      "4      100.0    4109017.0              1    17304\n"
     ]
    }
   ],
   "source": [
    "\"\"\"\n",
    "It seems that we can convert all of the preceding categorical columns into numeric by extracting the relevant \n",
    "numeric ID from each of them, since each of these columns has values in the form of someText_ someNumber. Rather \n",
    "than converting these categorical columns into a bloated one-hot encoded dataset, we can temporarily use them as\n",
    "numeric features. However, if the performance of the model doesn’t reach our desired expectations after several\n",
    "experiments, we might have to revisit these features and try our best to incorporate them differently. But for now,\n",
    "we can consider them as numeric features.\n",
    "\"\"\"\n",
    "# For people ID, we would need to extract values after '_'\n",
    "merged_df.people_id = merged_df.people_id.apply(lambda x: x.split('_')[1])\n",
    "merged_df.people_id = pd.to_numeric(merged_df.people_id)\n",
    "\n",
    "# For activity ID also, we would need to extract values after '_'\n",
    "merged_df.activity_id = merged_df.activity_id.apply(lambda x: x.split('_')[1])\n",
    "merged_df.activity_id = pd.to_numeric(merged_df.activity_id)\n",
    "\n",
    "# For group_1 , we would need to extract values after ''\n",
    "merged_df.group_1 = merged_df.group_1.apply(lambda x: x.split(' ')[1])\n",
    "merged_df.group_1 = pd.to_numeric(merged_df.group_1)\n",
    "\n",
    "# For activity_type , we would need to extract values after ''\n",
    "merged_df.activity_type = merged_df.activity_type.apply(lambda x: x.split(' ')[1])\n",
    "merged_df.activity_type = pd.to_numeric(merged_df.activity_type)\n",
    "\n",
    "# Double check the new values in the dataframe\n",
    "print(merged_df[['people_id', 'activity_id', 'activity_type', 'group_1']].head())"
   ]
  },
  {
   "cell_type": "code",
   "execution_count": 20,
   "metadata": {},
   "outputs": [],
   "source": [
    "\"\"\"\n",
    "let’s convert the remaining categorical columns, which have relatively low numbers of distinct values, to one-hot\n",
    "encoded form and render the final consolidated dataset.\n",
    "\"\"\"\n",
    "from sklearn.preprocessing import LabelEncoder, OneHotEncoder"
   ]
  },
  {
   "cell_type": "code",
   "execution_count": 21,
   "metadata": {},
   "outputs": [],
   "source": [
    "\"\"\"\n",
    "Define a function that will intake the raw dataframe and the column name and return a one hot encoded DF\n",
    "\"\"\"\n",
    "def create_ohe(df, col):\n",
    "    le = LabelEncoder()\n",
    "    a = le.fit_transform(df[col]).reshape(-1, 1)\n",
    "    ohe = OneHotEncoder(sparse=False)\n",
    "    column_names = [col + '_' + str(i) for i in le.classes_]\n",
    "    return (pd.DataFrame(ohe.fit_transform(a), columns=column_names))"
   ]
  },
  {
   "cell_type": "code",
   "execution_count": 22,
   "metadata": {},
   "outputs": [
    {
     "name": "stdout",
     "output_type": "stream",
     "text": [
      "\n",
      "Target column :\n",
      " ['outcome']\n",
      "\n",
      "Numeric columns :\n",
      " ['people_id', 'Month', 'char_38', 'Activity_Week', 'Year', 'Activity_Month', 'Activity_WeekDay', 'Day', 'group_1', 'Week', 'Activity_Day', 'WeekDay', 'activity_id', 'Quarter', 'activity_type', 'Activity_Quarter', 'Activity_Year']\n",
      "\n",
      "Categorical columns :\n",
      " ['activity_category' 'char_1' 'char_2' 'char_3' 'char_4' 'char_5' 'char_6'\n",
      " 'char_7' 'char_8' 'char_9']\n"
     ]
    },
    {
     "name": "stderr",
     "output_type": "stream",
     "text": [
      "D:\\anaconda3\\envs\\ml-env\\lib\\site-packages\\sklearn\\preprocessing\\_encoders.py:368: FutureWarning: The handling of integer data will change in version 0.22. Currently, the categories are determined based on the range [0, max(values)], while in the future they will be determined based on the unique values.\n",
      "If you want the future behaviour and silence this warning, you can specify \"categories='auto'\".\n",
      "In case you used a LabelEncoder before this OneHotEncoder to convert the categories to integers, then you can now use the OneHotEncoder directly.\n",
      "  warnings.warn(msg, FutureWarning)\n",
      "D:\\anaconda3\\envs\\ml-env\\lib\\site-packages\\sklearn\\preprocessing\\_encoders.py:368: FutureWarning: The handling of integer data will change in version 0.22. Currently, the categories are determined based on the range [0, max(values)], while in the future they will be determined based on the unique values.\n",
      "If you want the future behaviour and silence this warning, you can specify \"categories='auto'\".\n",
      "In case you used a LabelEncoder before this OneHotEncoder to convert the categories to integers, then you can now use the OneHotEncoder directly.\n",
      "  warnings.warn(msg, FutureWarning)\n",
      "D:\\anaconda3\\envs\\ml-env\\lib\\site-packages\\sklearn\\preprocessing\\_encoders.py:368: FutureWarning: The handling of integer data will change in version 0.22. Currently, the categories are determined based on the range [0, max(values)], while in the future they will be determined based on the unique values.\n",
      "If you want the future behaviour and silence this warning, you can specify \"categories='auto'\".\n",
      "In case you used a LabelEncoder before this OneHotEncoder to convert the categories to integers, then you can now use the OneHotEncoder directly.\n",
      "  warnings.warn(msg, FutureWarning)\n",
      "D:\\anaconda3\\envs\\ml-env\\lib\\site-packages\\sklearn\\preprocessing\\_encoders.py:368: FutureWarning: The handling of integer data will change in version 0.22. Currently, the categories are determined based on the range [0, max(values)], while in the future they will be determined based on the unique values.\n",
      "If you want the future behaviour and silence this warning, you can specify \"categories='auto'\".\n",
      "In case you used a LabelEncoder before this OneHotEncoder to convert the categories to integers, then you can now use the OneHotEncoder directly.\n",
      "  warnings.warn(msg, FutureWarning)\n",
      "D:\\anaconda3\\envs\\ml-env\\lib\\site-packages\\sklearn\\preprocessing\\_encoders.py:368: FutureWarning: The handling of integer data will change in version 0.22. Currently, the categories are determined based on the range [0, max(values)], while in the future they will be determined based on the unique values.\n",
      "If you want the future behaviour and silence this warning, you can specify \"categories='auto'\".\n",
      "In case you used a LabelEncoder before this OneHotEncoder to convert the categories to integers, then you can now use the OneHotEncoder directly.\n",
      "  warnings.warn(msg, FutureWarning)\n",
      "D:\\anaconda3\\envs\\ml-env\\lib\\site-packages\\sklearn\\preprocessing\\_encoders.py:368: FutureWarning: The handling of integer data will change in version 0.22. Currently, the categories are determined based on the range [0, max(values)], while in the future they will be determined based on the unique values.\n",
      "If you want the future behaviour and silence this warning, you can specify \"categories='auto'\".\n",
      "In case you used a LabelEncoder before this OneHotEncoder to convert the categories to integers, then you can now use the OneHotEncoder directly.\n",
      "  warnings.warn(msg, FutureWarning)\n",
      "D:\\anaconda3\\envs\\ml-env\\lib\\site-packages\\sklearn\\preprocessing\\_encoders.py:368: FutureWarning: The handling of integer data will change in version 0.22. Currently, the categories are determined based on the range [0, max(values)], while in the future they will be determined based on the unique values.\n",
      "If you want the future behaviour and silence this warning, you can specify \"categories='auto'\".\n",
      "In case you used a LabelEncoder before this OneHotEncoder to convert the categories to integers, then you can now use the OneHotEncoder directly.\n",
      "  warnings.warn(msg, FutureWarning)\n",
      "D:\\anaconda3\\envs\\ml-env\\lib\\site-packages\\sklearn\\preprocessing\\_encoders.py:368: FutureWarning: The handling of integer data will change in version 0.22. Currently, the categories are determined based on the range [0, max(values)], while in the future they will be determined based on the unique values.\n",
      "If you want the future behaviour and silence this warning, you can specify \"categories='auto'\".\n",
      "In case you used a LabelEncoder before this OneHotEncoder to convert the categories to integers, then you can now use the OneHotEncoder directly.\n",
      "  warnings.warn(msg, FutureWarning)\n",
      "D:\\anaconda3\\envs\\ml-env\\lib\\site-packages\\sklearn\\preprocessing\\_encoders.py:368: FutureWarning: The handling of integer data will change in version 0.22. Currently, the categories are determined based on the range [0, max(values)], while in the future they will be determined based on the unique values.\n",
      "If you want the future behaviour and silence this warning, you can specify \"categories='auto'\".\n",
      "In case you used a LabelEncoder before this OneHotEncoder to convert the categories to integers, then you can now use the OneHotEncoder directly.\n",
      "  warnings.warn(msg, FutureWarning)\n",
      "D:\\anaconda3\\envs\\ml-env\\lib\\site-packages\\sklearn\\preprocessing\\_encoders.py:368: FutureWarning: The handling of integer data will change in version 0.22. Currently, the categories are determined based on the range [0, max(values)], while in the future they will be determined based on the unique values.\n",
      "If you want the future behaviour and silence this warning, you can specify \"categories='auto'\".\n",
      "In case you used a LabelEncoder before this OneHotEncoder to convert the categories to integers, then you can now use the OneHotEncoder directly.\n",
      "  warnings.warn(msg, FutureWarning)\n"
     ]
    },
    {
     "name": "stdout",
     "output_type": "stream",
     "text": [
      "\n",
      "Shape of final df after onehot encoding: (2197291, 155)\n"
     ]
    }
   ],
   "source": [
    "\"\"\"\n",
    "Since the above function converts the column, one at a time We create a loop to create the final dataset \n",
    "with all features.\n",
    "\"\"\"\n",
    "\n",
    "#Creating a temporary dataframe that hosts column datatypes\n",
    "temp = pd.DataFrame(merged_df.dtypes)\n",
    "temp.columns = [\"DataType\"]\n",
    "\n",
    "target = ['outcome']\n",
    "numeric_columns = list(set(temp.index[(temp.DataType == 'float64') \n",
    "                                      | (temp.DataType == 'int64')].values) - set(target))\n",
    "categorical_columns = temp.index[temp.DataType == \"O\"].values\n",
    "\n",
    "print(\"\\nTarget column :\\n\",target)\n",
    "print(\"\\nNumeric columns :\\n\",numeric_columns)\n",
    "print(\"\\nCategorical columns :\\n\",categorical_columns)\n",
    "\n",
    "temp = merged_df[numeric_columns]\n",
    "for column in categorical_columns:\n",
    "    temp_df = create_ohe(merged_df, column)\n",
    "    temp = pd.concat([temp, temp_df], axis=1)\n",
    "print('\\nShape of final df after onehot encoding:', temp.shape)  "
   ]
  },
  {
   "cell_type": "code",
   "execution_count": 23,
   "metadata": {},
   "outputs": [
    {
     "name": "stdout",
     "output_type": "stream",
     "text": [
      "Shape of x_train: (1582048, 155)\n",
      "Shape of x_test: (439459, 155)\n",
      "Shape of x_val: (175784, 155)\n",
      "Shape of y_train: (1582048, 1)\n",
      "Shape of y_test: (439459, 1)\n",
      "Shape of y_val: (175784, 1)\n"
     ]
    }
   ],
   "source": [
    "from sklearn.model_selection import train_test_split\n",
    "\n",
    "# split the final dataset into train and test with 80:20\n",
    "x_train, x_test, y_train, y_test = train_test_split(temp, merged_df[target], test_size=0.2, random_state=2018)\n",
    "\n",
    "# split the train dataset further into train and validation with 90:10\n",
    "x_train, x_val, y_train, y_val = train_test_split(x_train, y_train, test_size=0.1, random_state=2018)\n",
    "\n",
    "# Check the shape of each new dataset created\n",
    "print(\"Shape of x_train:\",x_train.shape)\n",
    "print(\"Shape of x_test:\",x_test.shape)\n",
    "print(\"Shape of x_val:\",x_val.shape)\n",
    "print(\"Shape of y_train:\",y_train.shape)\n",
    "print(\"Shape of y_test:\",y_test.shape)\n",
    "print(\"Shape of y_val:\",y_val.shape)"
   ]
  },
  {
   "cell_type": "code",
   "execution_count": 24,
   "metadata": {},
   "outputs": [
    {
     "data": {
      "text/plain": [
       "0    0.556046\n",
       "1    0.443954\n",
       "Name: outcome, dtype: float64"
      ]
     },
     "execution_count": 24,
     "metadata": {},
     "output_type": "execute_result"
    }
   ],
   "source": [
    "\"\"\"\n",
    "For now, we have the training data in the desired form for building DL models for classification. We need to define\n",
    "a baseline benchmark that will help us set the threshold performance we should expect from our models\n",
    "for them to be considered useful and acceptable.\n",
    "\"\"\"\n",
    "\n",
    "##################################################\n",
    "#          Model Baseline Accuracy\n",
    "##################################################\n",
    "\"\"\"\n",
    "For all supervised classification use cases, our target variable would be a binary or multiclass (more than two\n",
    "classes) outcome. In our use case, we have the outcome as either 0 or 1. To validate the usefulness of a model, we\n",
    "should compare the result to what would have happened if we never had a model. In that case, we would make the\n",
    "largest class as the prediction for all customers and check what the accuracy looks like.\n",
    "If you remember, the target in our use case (i.e., the outcome variable) has a good distribution of 1’s and 0’s.\n",
    "Here is the distribution of the outcome variable between 1 and 0.\n",
    "\"\"\"\n",
    "# Checking the distribution of values in the target\n",
    "merged_df['outcome'].value_counts() / merged_df.shape[0]"
   ]
  },
  {
   "cell_type": "code",
   "execution_count": 25,
   "metadata": {},
   "outputs": [
    {
     "name": "stderr",
     "output_type": "stream",
     "text": [
      "Using TensorFlow backend.\n"
     ]
    },
    {
     "name": "stdout",
     "output_type": "stream",
     "text": [
      "Train on 1582048 samples, validate on 175784 samples\n",
      "Epoch 1/3\n",
      "1582048/1582048 [==============================] - 101s 64us/step - loss: 8.3087 - acc: 0.4804 - val_loss: 8.8394 - val_acc: 0.4455\n",
      "Epoch 2/3\n",
      "1582048/1582048 [==============================] - 133s 84us/step - loss: 8.8669 - acc: 0.4438 - val_loss: 8.8394 - val_acc: 0.4455\n",
      "Epoch 3/3\n",
      "1582048/1582048 [==============================] - 118s 75us/step - loss: 8.8669 - acc: 0.4438 - val_loss: 8.8394 - val_acc: 0.4455\n"
     ]
    },
    {
     "data": {
      "text/plain": [
       "<keras.callbacks.History at 0x1990c8be9b0>"
      ]
     },
     "execution_count": 25,
     "metadata": {},
     "output_type": "execute_result"
    }
   ],
   "source": [
    "\"\"\"\n",
    "So, with the preceding distribution, we can say that if we do not have any model and make all predictions as 0\n",
    "(the largest class)—that is, predicting that none of the customers are potential high-value customers—then we\n",
    "would end up with at least 55.6% accuracy either way. This is our baseline accuracy. If we build a model that\n",
    "delivers us an overall accuracy anywhere below our benchmark, then it would be of practically no use.\n",
    "\"\"\"\n",
    "\n",
    "##################################################\n",
    "#       Designing the DNN for Classification\n",
    "##################################################\n",
    "\"\"\"\n",
    "For this use case, we have somewhat larger datasets. The training process might be more time-consuming than that\n",
    "of the regression use case. To save our time and be able to quickly get a well-functioning architecture in\n",
    "place, we will use a simple strategy. We will start with just three epochs for each kind of network we will\n",
    "experiment with, and once we find promising results, we will retrain the best architecture with the desired number\n",
    "of epochs for improved results.\n",
    "\"\"\"\n",
    "\n",
    "\"\"\"\n",
    "Rule 1: Start small\n",
    "The following code snippet builds a DNN with just one layer and 256 neurons. We have used binary_crossentropy\n",
    "(since this a binary classification problem) as the loss function and accuracy as the metric to monitor. For\n",
    "classification problems, we can use several other metrics available within Keras, but accuracy is simple and fairly\n",
    "straightforward to comprehend. We will train the network for just three epochs and keep monitoring the loss as \n",
    "well as the accuracy on the training and validation dataset. If we don’t see promising results, we might have to\n",
    "try a new architecture.\n",
    "\"\"\"\n",
    "from keras.models import Sequential\n",
    "from keras.layers import Dense\n",
    "\n",
    "# Design the deep neural network [Small + 1 layer] architecture\n",
    "model = Sequential()\n",
    "model.add(Dense(256, input_dim=x_train.shape[1], activation='relu'))\n",
    "model.add(Dense(1, activation='sigmoid'))  # activation=sigmoid for binary classification\n",
    "\n",
    "# compile the model\n",
    "model.compile(optimizer='Adam', loss='binary_crossentropy', metrics=['accuracy'])\n",
    "\n",
    "# train the model\n",
    "model.fit(x_train, y_train, validation_data=(x_val, y_val), epochs=3, batch_size=64)"
   ]
  },
  {
   "cell_type": "code",
   "execution_count": 26,
   "metadata": {},
   "outputs": [
    {
     "name": "stdout",
     "output_type": "stream",
     "text": [
      "Train on 1582048 samples, validate on 175784 samples\n",
      "Epoch 1/3\n",
      "1582048/1582048 [==============================] - 183s 115us/step - loss: 8.8669 - acc: 0.4438 - val_loss: 8.8394 - val_acc: 0.4455\n",
      "Epoch 2/3\n",
      "1582048/1582048 [==============================] - 160s 101us/step - loss: 8.8669 - acc: 0.4438 - val_loss: 8.8394 - val_acc: 0.4455\n",
      "Epoch 3/3\n",
      "1582048/1582048 [==============================] - 163s 103us/step - loss: 8.8669 - acc: 0.4438 - val_loss: 8.8394 - val_acc: 0.4455\n"
     ]
    },
    {
     "data": {
      "text/plain": [
       "<keras.callbacks.History at 0x1990d2f1ef0>"
      ]
     },
     "execution_count": 26,
     "metadata": {},
     "output_type": "execute_result"
    }
   ],
   "source": [
    "\"\"\"\n",
    "If you closely observe the results from the training output, you will see that the overall accuracy for training\n",
    "as well as validation datasets was around 0.44 (44%), which is way lower than our baseline accuracy. We can\n",
    "therefore conclude that training this model further might not be a fruitful idea.\n",
    "Let’s try a deeper network for the same number of neurons. So, we keep everything the same but add one more layer\n",
    "with the same number of neurons.\n",
    "\"\"\"\n",
    "# Design the deep neural network [Small + 2 layers]\n",
    "model = Sequential()\n",
    "model.add(Dense(256, input_dim=x_train.shape[1], activation='relu'))\n",
    "model.add(Dense(256, activation='relu'))\n",
    "model.add(Dense(1, activation='sigmoid'))  # activation=sigmoid for binary classification\n",
    "\n",
    "# compile the model\n",
    "model.compile(optimizer='Adam', loss='binary_crossentropy', metrics=['accuracy'])\n",
    "\n",
    "# train the model\n",
    "model.fit(x_train, y_train, validation_data=(x_val, y_val), epochs=3, batch_size=64)"
   ]
  },
  {
   "cell_type": "code",
   "execution_count": 27,
   "metadata": {},
   "outputs": [
    {
     "name": "stdout",
     "output_type": "stream",
     "text": [
      "Train on 1582048 samples, validate on 175784 samples\n",
      "Epoch 1/3\n",
      "1582048/1582048 [==============================] - 156s 99us/step - loss: 7.1583 - acc: 0.5559 - val_loss: 7.1813 - val_acc: 0.5545\n",
      "Epoch 2/3\n",
      "1582048/1582048 [==============================] - 148s 93us/step - loss: 7.1534 - acc: 0.5562 - val_loss: 7.1813 - val_acc: 0.5545\n",
      "Epoch 3/3\n",
      "1582048/1582048 [==============================] - 140s 89us/step - loss: 7.1534 - acc: 0.5562 - val_loss: 7.1813 - val_acc: 0.5545\n"
     ]
    },
    {
     "data": {
      "text/plain": [
       "<keras.callbacks.History at 0x1990f957be0>"
      ]
     },
     "execution_count": 27,
     "metadata": {},
     "output_type": "execute_result"
    }
   ],
   "source": [
    "\"\"\"\n",
    "Again, as we can see, the initial results are not at all promising. The training and validation accuracy from the\n",
    "deeper network are not anywhere close to what we would expect. Instead of trying another deeper network\n",
    "with, say, three to five layers, let us try training with a bigger (medium-sized) network. We shall use a new\n",
    "architecture with just one layer but 512 neurons this time. Let us again train for three epochs and have a look\n",
    "at the metrics to check whether it is in line with what we would expect.\n",
    "\"\"\"\n",
    "# Design the deep neural network [Medium + 1 layers]\n",
    "model = Sequential()\n",
    "model.add(Dense(512, input_dim=x_train.shape[1], activation='relu'))\n",
    "model.add(Dense(1, activation='sigmoid'))\n",
    "\n",
    "# compile the model\n",
    "model.compile(optimizer='Adam', loss='binary_crossentropy', metrics=['accuracy'])\n",
    "\n",
    "# train the model\n",
    "model.fit(x_train, y_train, validation_data=(x_val, y_val), epochs=3, batch_size=64)"
   ]
  },
  {
   "cell_type": "code",
   "execution_count": 28,
   "metadata": {},
   "outputs": [
    {
     "name": "stdout",
     "output_type": "stream",
     "text": [
      "Train on 1582048 samples, validate on 175784 samples\n",
      "Epoch 1/3\n",
      "1582048/1582048 [==============================] - 427s 270us/step - loss: 7.1534 - acc: 0.5562 - val_loss: 7.1813 - val_acc: 0.5545\n",
      "Epoch 2/3\n",
      "1582048/1582048 [==============================] - 414s 262us/step - loss: 7.1534 - acc: 0.5562 - val_loss: 7.1813 - val_acc: 0.5545\n"
     ]
    },
    {
     "data": {
      "text/plain": [
       "<keras.callbacks.History at 0x1990f865eb8>"
      ]
     },
     "execution_count": 28,
     "metadata": {},
     "output_type": "execute_result"
    }
   ],
   "source": [
    "\"\"\"\n",
    "The medium-sized network too returned disappointing results. The training and validation accuracy from the \n",
    "medium-sized network are not really close to what we would expect. Let’s now try increasing the depth for\n",
    "the medium-sized network to see if the results improve.\n",
    "\"\"\"\n",
    "# Design the deep neural network [Medium + 2 layers]\n",
    "model = Sequential()\n",
    "model.add(Dense(512, input_dim=x_train.shape[1], activation='relu'))\n",
    "model.add(Dense(512, activation='relu'))\n",
    "model.add(Dense(1, activation='sigmoid'))\n",
    "\n",
    "# compile the model\n",
    "model.compile(optimizer='Adam', loss='binary_crossentropy', metrics=['accuracy'])\n",
    "\n",
    "# train the model\n",
    "model.fit(x_train, y_train, validation_data=(x_val, y_val), epochs=3, batch_size=64)"
   ]
  },
  {
   "cell_type": "code",
   "execution_count": 31,
   "metadata": {},
   "outputs": [
    {
     "name": "stdout",
     "output_type": "stream",
     "text": [
      "Dummy Input =  [1 2 3 4 5 6 7 8 9]\n",
      "Output =\n",
      "  [array([-1.54919334]), array([-1.161895]), array([-0.77459667]), array([-0.38729833]), array([0.]), array([0.38729833]), array([0.77459667]), array([1.161895]), array([1.54919334])]\n",
      "Output Mean =  0.0\n",
      "Output Std Dev =  1.0\n",
      "\n",
      "After Inverse Transforming = \n",
      "  [array([1.]), array([2.]), array([3.]), array([4.]), array([5.]), array([6.]), array([7.]), array([8.]), array([9.])]\n"
     ]
    },
    {
     "name": "stderr",
     "output_type": "stream",
     "text": [
      "D:\\anaconda3\\envs\\ml-env\\lib\\site-packages\\sklearn\\utils\\validation.py:595: DataConversionWarning: Data with input dtype int32 was converted to float64 by StandardScaler.\n",
      "  warnings.warn(msg, DataConversionWarning)\n",
      "D:\\anaconda3\\envs\\ml-env\\lib\\site-packages\\sklearn\\utils\\validation.py:595: DataConversionWarning: Data with input dtype int32 was converted to float64 by StandardScaler.\n",
      "  warnings.warn(msg, DataConversionWarning)\n"
     ]
    }
   ],
   "source": [
    "\"\"\"\n",
    "We can see that the results have improved, but only by just a bit. We see an accuracy of around 55% for the \n",
    "training and validation datasets, but these results are again not great so we have to revisit our dataset.\n",
    "\"\"\"\n",
    "\n",
    "###################################################\n",
    "#            Revisiting the Data\n",
    "###################################################\n",
    "\"\"\"\n",
    "We can standardize the input data with a ‘Standardscaler’ or a ‘Minmaxscaler’ using Python’s sklearn package’s\n",
    "tools or we can explore the options to revisit the one-hot encoding exercise for the categorical features we\n",
    "encoded as numeric. From these two options, the easiest and the least time-consuming would be standardizing or\n",
    "normalizing the data.\n",
    "\"\"\"\n",
    "\n",
    "##################################################\n",
    "#   Standardize, Normalize, or Scale the Data\n",
    "##################################################\n",
    "\"\"\"\n",
    "it is a good practice to standardize or normalize the data before providing it as training data for the DL models.\n",
    "However, in our classification use case, we can see that the performance is very poor on the raw data. To improve\n",
    "our model performance, let us try standardizing our data. (Alternatively, you can normalize the data too.)\n",
    "In standardization, we transform the data into a form where the mean is 0 and the standard deviation is 1. The\n",
    "distribution of the data in this form is a great input candidate for our neuron’s activation function and\n",
    "therefore improves the ability to learn more appropriately.\n",
    "\"\"\"\n",
    "from sklearn.preprocessing import StandardScaler\n",
    "\n",
    "# Create a dummy input\n",
    "dummy_input = np.arange(1, 10)\n",
    "print('Dummy Input = ', dummy_input)\n",
    "\n",
    "# Create a standardscaler instance and fit the data\n",
    "scaler = StandardScaler()\n",
    "output = scaler.fit_transform(dummy_input.reshape(-1, 1))\n",
    "print('Output =\\n ', list(output))\n",
    "print('Output Mean = ', output.mean())\n",
    "print('Output Std Dev = ', output.std())\n",
    "print('\\nAfter Inverse Transforming = \\n ', list(scaler.inverse_transform(output)))"
   ]
  },
  {
   "cell_type": "code",
   "execution_count": 32,
   "metadata": {},
   "outputs": [
    {
     "name": "stderr",
     "output_type": "stream",
     "text": [
      "D:\\anaconda3\\envs\\ml-env\\lib\\site-packages\\sklearn\\preprocessing\\data.py:625: DataConversionWarning: Data with input dtype int64, float64 were all converted to float64 by StandardScaler.\n",
      "  return self.partial_fit(X, y)\n",
      "D:\\anaconda3\\envs\\ml-env\\lib\\site-packages\\ipykernel_launcher.py:14: DataConversionWarning: Data with input dtype int64, float64 were all converted to float64 by StandardScaler.\n",
      "  \n",
      "D:\\anaconda3\\envs\\ml-env\\lib\\site-packages\\ipykernel_launcher.py:15: DataConversionWarning: Data with input dtype int64, float64 were all converted to float64 by StandardScaler.\n",
      "  from ipykernel import kernelapp as app\n",
      "D:\\anaconda3\\envs\\ml-env\\lib\\site-packages\\ipykernel_launcher.py:16: DataConversionWarning: Data with input dtype int64, float64 were all converted to float64 by StandardScaler.\n",
      "  app.launch_new_instance()\n"
     ]
    }
   ],
   "source": [
    "###############################################\n",
    "#       Transforming the Input Data\n",
    "###############################################\n",
    "\"\"\"\n",
    "To transform the input data for the development of the model, please note that we should only use the training data\n",
    "to fit the scaler transformation and use the same fitted object to transform the validation and test input data.\n",
    "\"\"\"\n",
    "from sklearn.preprocessing import StandardScaler\n",
    "\n",
    "# uses the x_train dataset to fit and transform the scaled values for all three datasets\n",
    "scaler = StandardScaler()\n",
    "scaler.fit(x_train)\n",
    "\n",
    "x_train_scaled = scaler.transform(x_train)\n",
    "x_val_scaled = scaler.transform(x_val)\n",
    "x_test_scaled = scaler.transform(x_test)"
   ]
  },
  {
   "cell_type": "code",
   "execution_count": 33,
   "metadata": {},
   "outputs": [
    {
     "name": "stdout",
     "output_type": "stream",
     "text": [
      "Train on 1582048 samples, validate on 175784 samples\n",
      "Epoch 1/3\n",
      "1582048/1582048 [==============================] - 157s 99us/step - loss: 0.2517 - acc: 0.8891 - val_loss: 0.2150 - val_acc: 0.9107\n",
      "Epoch 2/3\n",
      "1582048/1582048 [==============================] - 151s 95us/step - loss: 0.2016 - acc: 0.9183 - val_loss: 0.1876 - val_acc: 0.9259\n",
      "Epoch 3/3\n",
      "1582048/1582048 [==============================] - 142s 89us/step - loss: 0.1778 - acc: 0.9308 - val_loss: 0.1792 - val_acc: 0.9300\n"
     ]
    },
    {
     "data": {
      "text/plain": [
       "<keras.callbacks.History at 0x1992b3cc668>"
      ]
     },
     "execution_count": 33,
     "metadata": {},
     "output_type": "execute_result"
    }
   ],
   "source": [
    "\"\"\"\n",
    "Now that we have the standard scaled datasets, we can provide this newly augmented data for training. \n",
    "Please note that we haven’t made any transformations to the labels or the target.\n",
    "\"\"\"\n",
    "\n",
    "####################################################\n",
    "#      DNNs for Classification with Improved Data\n",
    "####################################################\n",
    "\"\"\"\n",
    "Let us now start with a medium-sized network to see if we get improved results. \n",
    "We will start with just three epochs.\n",
    "\"\"\"\n",
    "from keras import Sequential\n",
    "from keras.layers import Dense\n",
    "\n",
    "# Design the deep neural network [Medium + 2 layers]\n",
    "model = Sequential()\n",
    "model.add(Dense(512, input_dim=x_train_scaled.shape[1], activation='relu'))\n",
    "model.add(Dense(1, activation='sigmoid'))\n",
    "\n",
    "# compile the model\n",
    "model.compile(optimizer='Adam', loss='binary_crossentropy', metrics=['accuracy'])\n",
    "\n",
    "# train the model\n",
    "model.fit(x_train_scaled, y_train, validation_data=(x_val_scaled, y_val), epochs=3, batch_size=64)"
   ]
  },
  {
   "cell_type": "code",
   "execution_count": 34,
   "metadata": {},
   "outputs": [
    {
     "name": "stdout",
     "output_type": "stream",
     "text": [
      "439459/439459 [==============================] - 23s 52us/step\n",
      "Metric  loss : 0.18\n",
      "Metric  acc : 0.93\n"
     ]
    }
   ],
   "source": [
    "\"\"\"\n",
    "We can see the drastic improvement in the performance of the network in providing the standardized datasets.\n",
    "We have an almost 93% accuracy on the training and validation datasets. Let’s use this model to evaluate the\n",
    "model performance on the test datasets.\n",
    "\"\"\"\n",
    "result = model.evaluate(x_test_scaled, y_test)\n",
    "for i in range(len(model.metrics_names)):\n",
    "    print('Metric ', model.metrics_names[i], ':', str(round(result[i], 2)))"
   ]
  },
  {
   "cell_type": "code",
   "execution_count": 37,
   "metadata": {},
   "outputs": [
    {
     "name": "stdout",
     "output_type": "stream",
     "text": [
      "Train on 1582048 samples, validate on 175784 samples\n",
      "Epoch 1/3\n",
      "1582048/1582048 [==============================] - 425s 269us/step - loss: 0.2167 - acc: 0.9051 - val_loss: 0.1685 - val_acc: 0.9285\n",
      "Epoch 2/3\n",
      "1582048/1582048 [==============================] - 303s 191us/step - loss: 0.1401 - acc: 0.9435 - val_loss: 0.1258 - val_acc: 0.9502\n",
      "Epoch 3/3\n",
      "1582048/1582048 [==============================] - 332s 210us/step - loss: 0.1105 - acc: 0.9567 - val_loss: 0.1052 - val_acc: 0.9594\n"
     ]
    },
    {
     "data": {
      "text/plain": [
       "<keras.callbacks.History at 0x1992e4c13c8>"
      ]
     },
     "execution_count": 37,
     "metadata": {},
     "output_type": "execute_result"
    }
   ],
   "source": [
    "\"\"\"\n",
    "We see great results on the test dataset. Let’s try improving the architecture a bit and see. We can a medium-sized\n",
    "deeper network to see if the results are better than with the medium-sized network.\n",
    "\"\"\"\n",
    "# Designing the Deep Neural Network [Medium – 2 Layers]\n",
    "model = Sequential()\n",
    "model.add(Dense(512, input_dim=x_train_scaled.shape[1], activation='relu'))\n",
    "model.add(Dense(512, activation='relu'))\n",
    "model.add(Dense(1, activation='sigmoid'))\n",
    "\n",
    "# compile the model\n",
    "model.compile(optimizer='Adam', loss='binary_crossentropy', metrics=['accuracy'])\n",
    "\n",
    "# train the model\n",
    "model.fit(x_train_scaled, y_train, validation_data=(x_val_scaled, y_val), epochs=3, batch_size=64)"
   ]
  },
  {
   "cell_type": "code",
   "execution_count": null,
   "metadata": {},
   "outputs": [
    {
     "name": "stdout",
     "output_type": "stream",
     "text": [
      "Train on 1582048 samples, validate on 175784 samples\n",
      "Epoch 1/3\n",
      "1582048/1582048 [==============================] - 1070s 677us/step - loss: 0.2156 - acc: 0.9053 - val_loss: 0.1591 - val_acc: 0.9337\n",
      "Epoch 2/3\n",
      "1581184/1582048 [============================>.] - ETA: 0s - loss: 0.1077 - acc: 0.9578"
     ]
    }
   ],
   "source": [
    "\"\"\"\n",
    "The training and validation accuracy has improved even further to 95%. This small increase with just 3 epochs is\n",
    "awesome. We can now be confident of the performance for the model with the architecture.\n",
    "let’s take a final shot with a larger and deeper network and see the results with 3 epochs. In case we see only\n",
    "small improvements, we will use the same architecture for 15 epochs and use the model for our final predictions.\n",
    "\"\"\"\n",
    "# Designing the network Deep Neural Network – [Large + 2 Layers]\n",
    "model = Sequential()\n",
    "model.add(Dense(1024, input_dim=x_train_scaled.shape[1], activation='relu'))\n",
    "model.add(Dense(1024, activation='relu'))\n",
    "model.add(Dense(1, activation='sigmoid'))\n",
    "\n",
    "# compile the model\n",
    "model.compile(optimizer='Adam', loss='binary_crossentropy', metrics=['accuracy'])\n",
    "\n",
    "# train the model\n",
    "model.fit(x_train_scaled, y_train, validation_data=(x_val_scaled, y_val), epochs=3, batch_size=64)"
   ]
  },
  {
   "cell_type": "code",
   "execution_count": 40,
   "metadata": {},
   "outputs": [
    {
     "name": "stdout",
     "output_type": "stream",
     "text": [
      "Train on 1582048 samples, validate on 175784 samples\n",
      "Epoch 1/15\n",
      "1582048/1582048 [==============================] - 325s 206us/step - loss: 0.2156 - acc: 0.9058 - val_loss: 0.1615 - val_acc: 0.9330\n",
      "Epoch 2/15\n",
      " 742144/1582048 [=============>................] - ETA: 2:53 - loss: 0.1472 - acc: 0.9403"
     ]
    },
    {
     "ename": "KeyboardInterrupt",
     "evalue": "",
     "output_type": "error",
     "traceback": [
      "\u001b[1;31m---------------------------------------------------------------------------\u001b[0m",
      "\u001b[1;31mKeyboardInterrupt\u001b[0m                         Traceback (most recent call last)",
      "\u001b[1;32m<ipython-input-40-0b92f39af834>\u001b[0m in \u001b[0;36m<module>\u001b[1;34m\u001b[0m\n\u001b[0;32m     16\u001b[0m \u001b[1;33m\u001b[0m\u001b[0m\n\u001b[0;32m     17\u001b[0m \u001b[1;31m# train the model\u001b[0m\u001b[1;33m\u001b[0m\u001b[1;33m\u001b[0m\u001b[1;33m\u001b[0m\u001b[0m\n\u001b[1;32m---> 18\u001b[1;33m \u001b[0mmodel\u001b[0m\u001b[1;33m.\u001b[0m\u001b[0mfit\u001b[0m\u001b[1;33m(\u001b[0m\u001b[0mx_train_scaled\u001b[0m\u001b[1;33m,\u001b[0m \u001b[0my_train\u001b[0m\u001b[1;33m,\u001b[0m \u001b[0mvalidation_data\u001b[0m\u001b[1;33m=\u001b[0m\u001b[1;33m(\u001b[0m\u001b[0mx_val_scaled\u001b[0m\u001b[1;33m,\u001b[0m \u001b[0my_val\u001b[0m\u001b[1;33m)\u001b[0m\u001b[1;33m,\u001b[0m \u001b[0mepochs\u001b[0m\u001b[1;33m=\u001b[0m\u001b[1;36m15\u001b[0m\u001b[1;33m,\u001b[0m \u001b[0mbatch_size\u001b[0m\u001b[1;33m=\u001b[0m\u001b[1;36m64\u001b[0m\u001b[1;33m)\u001b[0m\u001b[1;33m\u001b[0m\u001b[1;33m\u001b[0m\u001b[0m\n\u001b[0m\u001b[0;32m     19\u001b[0m \u001b[1;33m\u001b[0m\u001b[0m\n\u001b[0;32m     20\u001b[0m \"\"\"\n",
      "\u001b[1;32mD:\\anaconda3\\envs\\ml-env\\lib\\site-packages\\keras\\engine\\training.py\u001b[0m in \u001b[0;36mfit\u001b[1;34m(self, x, y, batch_size, epochs, verbose, callbacks, validation_split, validation_data, shuffle, class_weight, sample_weight, initial_epoch, steps_per_epoch, validation_steps, **kwargs)\u001b[0m\n\u001b[0;32m   1037\u001b[0m                                         \u001b[0minitial_epoch\u001b[0m\u001b[1;33m=\u001b[0m\u001b[0minitial_epoch\u001b[0m\u001b[1;33m,\u001b[0m\u001b[1;33m\u001b[0m\u001b[1;33m\u001b[0m\u001b[0m\n\u001b[0;32m   1038\u001b[0m                                         \u001b[0msteps_per_epoch\u001b[0m\u001b[1;33m=\u001b[0m\u001b[0msteps_per_epoch\u001b[0m\u001b[1;33m,\u001b[0m\u001b[1;33m\u001b[0m\u001b[1;33m\u001b[0m\u001b[0m\n\u001b[1;32m-> 1039\u001b[1;33m                                         validation_steps=validation_steps)\n\u001b[0m\u001b[0;32m   1040\u001b[0m \u001b[1;33m\u001b[0m\u001b[0m\n\u001b[0;32m   1041\u001b[0m     def evaluate(self, x=None, y=None,\n",
      "\u001b[1;32mD:\\anaconda3\\envs\\ml-env\\lib\\site-packages\\keras\\engine\\training_arrays.py\u001b[0m in \u001b[0;36mfit_loop\u001b[1;34m(model, f, ins, out_labels, batch_size, epochs, verbose, callbacks, val_f, val_ins, shuffle, callback_metrics, initial_epoch, steps_per_epoch, validation_steps)\u001b[0m\n\u001b[0;32m    197\u001b[0m                     \u001b[0mins_batch\u001b[0m\u001b[1;33m[\u001b[0m\u001b[0mi\u001b[0m\u001b[1;33m]\u001b[0m \u001b[1;33m=\u001b[0m \u001b[0mins_batch\u001b[0m\u001b[1;33m[\u001b[0m\u001b[0mi\u001b[0m\u001b[1;33m]\u001b[0m\u001b[1;33m.\u001b[0m\u001b[0mtoarray\u001b[0m\u001b[1;33m(\u001b[0m\u001b[1;33m)\u001b[0m\u001b[1;33m\u001b[0m\u001b[1;33m\u001b[0m\u001b[0m\n\u001b[0;32m    198\u001b[0m \u001b[1;33m\u001b[0m\u001b[0m\n\u001b[1;32m--> 199\u001b[1;33m                 \u001b[0mouts\u001b[0m \u001b[1;33m=\u001b[0m \u001b[0mf\u001b[0m\u001b[1;33m(\u001b[0m\u001b[0mins_batch\u001b[0m\u001b[1;33m)\u001b[0m\u001b[1;33m\u001b[0m\u001b[1;33m\u001b[0m\u001b[0m\n\u001b[0m\u001b[0;32m    200\u001b[0m                 \u001b[0mouts\u001b[0m \u001b[1;33m=\u001b[0m \u001b[0mto_list\u001b[0m\u001b[1;33m(\u001b[0m\u001b[0mouts\u001b[0m\u001b[1;33m)\u001b[0m\u001b[1;33m\u001b[0m\u001b[1;33m\u001b[0m\u001b[0m\n\u001b[0;32m    201\u001b[0m                 \u001b[1;32mfor\u001b[0m \u001b[0ml\u001b[0m\u001b[1;33m,\u001b[0m \u001b[0mo\u001b[0m \u001b[1;32min\u001b[0m \u001b[0mzip\u001b[0m\u001b[1;33m(\u001b[0m\u001b[0mout_labels\u001b[0m\u001b[1;33m,\u001b[0m \u001b[0mouts\u001b[0m\u001b[1;33m)\u001b[0m\u001b[1;33m:\u001b[0m\u001b[1;33m\u001b[0m\u001b[1;33m\u001b[0m\u001b[0m\n",
      "\u001b[1;32mD:\\anaconda3\\envs\\ml-env\\lib\\site-packages\\keras\\backend\\tensorflow_backend.py\u001b[0m in \u001b[0;36m__call__\u001b[1;34m(self, inputs)\u001b[0m\n\u001b[0;32m   2713\u001b[0m                 \u001b[1;32mreturn\u001b[0m \u001b[0mself\u001b[0m\u001b[1;33m.\u001b[0m\u001b[0m_legacy_call\u001b[0m\u001b[1;33m(\u001b[0m\u001b[0minputs\u001b[0m\u001b[1;33m)\u001b[0m\u001b[1;33m\u001b[0m\u001b[1;33m\u001b[0m\u001b[0m\n\u001b[0;32m   2714\u001b[0m \u001b[1;33m\u001b[0m\u001b[0m\n\u001b[1;32m-> 2715\u001b[1;33m             \u001b[1;32mreturn\u001b[0m \u001b[0mself\u001b[0m\u001b[1;33m.\u001b[0m\u001b[0m_call\u001b[0m\u001b[1;33m(\u001b[0m\u001b[0minputs\u001b[0m\u001b[1;33m)\u001b[0m\u001b[1;33m\u001b[0m\u001b[1;33m\u001b[0m\u001b[0m\n\u001b[0m\u001b[0;32m   2716\u001b[0m         \u001b[1;32melse\u001b[0m\u001b[1;33m:\u001b[0m\u001b[1;33m\u001b[0m\u001b[1;33m\u001b[0m\u001b[0m\n\u001b[0;32m   2717\u001b[0m             \u001b[1;32mif\u001b[0m \u001b[0mpy_any\u001b[0m\u001b[1;33m(\u001b[0m\u001b[0mis_tensor\u001b[0m\u001b[1;33m(\u001b[0m\u001b[0mx\u001b[0m\u001b[1;33m)\u001b[0m \u001b[1;32mfor\u001b[0m \u001b[0mx\u001b[0m \u001b[1;32min\u001b[0m \u001b[0minputs\u001b[0m\u001b[1;33m)\u001b[0m\u001b[1;33m:\u001b[0m\u001b[1;33m\u001b[0m\u001b[1;33m\u001b[0m\u001b[0m\n",
      "\u001b[1;32mD:\\anaconda3\\envs\\ml-env\\lib\\site-packages\\keras\\backend\\tensorflow_backend.py\u001b[0m in \u001b[0;36m_call\u001b[1;34m(self, inputs)\u001b[0m\n\u001b[0;32m   2673\u001b[0m             \u001b[0mfetched\u001b[0m \u001b[1;33m=\u001b[0m \u001b[0mself\u001b[0m\u001b[1;33m.\u001b[0m\u001b[0m_callable_fn\u001b[0m\u001b[1;33m(\u001b[0m\u001b[1;33m*\u001b[0m\u001b[0marray_vals\u001b[0m\u001b[1;33m,\u001b[0m \u001b[0mrun_metadata\u001b[0m\u001b[1;33m=\u001b[0m\u001b[0mself\u001b[0m\u001b[1;33m.\u001b[0m\u001b[0mrun_metadata\u001b[0m\u001b[1;33m)\u001b[0m\u001b[1;33m\u001b[0m\u001b[1;33m\u001b[0m\u001b[0m\n\u001b[0;32m   2674\u001b[0m         \u001b[1;32melse\u001b[0m\u001b[1;33m:\u001b[0m\u001b[1;33m\u001b[0m\u001b[1;33m\u001b[0m\u001b[0m\n\u001b[1;32m-> 2675\u001b[1;33m             \u001b[0mfetched\u001b[0m \u001b[1;33m=\u001b[0m \u001b[0mself\u001b[0m\u001b[1;33m.\u001b[0m\u001b[0m_callable_fn\u001b[0m\u001b[1;33m(\u001b[0m\u001b[1;33m*\u001b[0m\u001b[0marray_vals\u001b[0m\u001b[1;33m)\u001b[0m\u001b[1;33m\u001b[0m\u001b[1;33m\u001b[0m\u001b[0m\n\u001b[0m\u001b[0;32m   2676\u001b[0m         \u001b[1;32mreturn\u001b[0m \u001b[0mfetched\u001b[0m\u001b[1;33m[\u001b[0m\u001b[1;33m:\u001b[0m\u001b[0mlen\u001b[0m\u001b[1;33m(\u001b[0m\u001b[0mself\u001b[0m\u001b[1;33m.\u001b[0m\u001b[0moutputs\u001b[0m\u001b[1;33m)\u001b[0m\u001b[1;33m]\u001b[0m\u001b[1;33m\u001b[0m\u001b[1;33m\u001b[0m\u001b[0m\n\u001b[0;32m   2677\u001b[0m \u001b[1;33m\u001b[0m\u001b[0m\n",
      "\u001b[1;32mD:\\anaconda3\\envs\\ml-env\\lib\\site-packages\\tensorflow\\python\\client\\session.py\u001b[0m in \u001b[0;36m__call__\u001b[1;34m(self, *args, **kwargs)\u001b[0m\n\u001b[0;32m   1437\u001b[0m           ret = tf_session.TF_SessionRunCallable(\n\u001b[0;32m   1438\u001b[0m               \u001b[0mself\u001b[0m\u001b[1;33m.\u001b[0m\u001b[0m_session\u001b[0m\u001b[1;33m.\u001b[0m\u001b[0m_session\u001b[0m\u001b[1;33m,\u001b[0m \u001b[0mself\u001b[0m\u001b[1;33m.\u001b[0m\u001b[0m_handle\u001b[0m\u001b[1;33m,\u001b[0m \u001b[0margs\u001b[0m\u001b[1;33m,\u001b[0m \u001b[0mstatus\u001b[0m\u001b[1;33m,\u001b[0m\u001b[1;33m\u001b[0m\u001b[1;33m\u001b[0m\u001b[0m\n\u001b[1;32m-> 1439\u001b[1;33m               run_metadata_ptr)\n\u001b[0m\u001b[0;32m   1440\u001b[0m         \u001b[1;32mif\u001b[0m \u001b[0mrun_metadata\u001b[0m\u001b[1;33m:\u001b[0m\u001b[1;33m\u001b[0m\u001b[1;33m\u001b[0m\u001b[0m\n\u001b[0;32m   1441\u001b[0m           \u001b[0mproto_data\u001b[0m \u001b[1;33m=\u001b[0m \u001b[0mtf_session\u001b[0m\u001b[1;33m.\u001b[0m\u001b[0mTF_GetBuffer\u001b[0m\u001b[1;33m(\u001b[0m\u001b[0mrun_metadata_ptr\u001b[0m\u001b[1;33m)\u001b[0m\u001b[1;33m\u001b[0m\u001b[1;33m\u001b[0m\u001b[0m\n",
      "\u001b[1;31mKeyboardInterrupt\u001b[0m: "
     ]
    }
   ],
   "source": [
    "\"\"\"\n",
    "We see an overall accuracy on the validation dataset as 96% and a similar score for the training dataset. So,\n",
    "there really isn’t a lot of improvement in the performance of the model due to increasing the size from a medium\n",
    "(512-neuron) to a larger (1024-neuron) architecture.\n",
    "let’s train a medium-sized (512-neuron) deep network with two layers for 15 epochs, look at the final training\n",
    "and validation accuracy, and then use the trained model to evaluate the test datasets.\n",
    "\"\"\"\n",
    "# Designing the network Deep Neural Network – [Medium + 2 Layers]\n",
    "model = Sequential()\n",
    "model.add(Dense(512, input_dim=x_train_scaled.shape[1], activation='relu'))\n",
    "model.add(Dense(512, activation='relu'))\n",
    "model.add(Dense(1, activation='sigmoid'))\n",
    "\n",
    "# compile the model\n",
    "model.compile(optimizer='Adam', loss='binary_crossentropy', metrics=['accuracy'])\n",
    "\n",
    "# train the model\n",
    "model.fit(x_train_scaled, y_train, validation_data=(x_val_scaled, y_val), epochs=15, batch_size=64)\n",
    "\n",
    "\"\"\"\n",
    "The final model with a medium-size architecture of 512 neurons and two layers gave great performance results on\n",
    "the training and validation datasets. We have an accuracy of ~98% for both datasets. Let us now\n",
    "validate the model performance on the test dataset.\n",
    "\"\"\"\n",
    "result = model.evaluate(x_test_scaled, y_test)\n",
    "for i in range(len(model.metrics_names)):\n",
    "    print('Metric ', model.metrics_names[i], ':', str(round(result[i], 2)))"
   ]
  },
  {
   "cell_type": "code",
   "execution_count": 41,
   "metadata": {},
   "outputs": [
    {
     "data": {
      "image/png": "[encoded data removed]",
      "text/plain": [
       "<Figure size 432x288 with 1 Axes>"
      ]
     },
     "metadata": {
      "needs_background": "light"
     },
     "output_type": "display_data"
    }
   ],
   "source": [
    "\"\"\"\n",
    "The performance on the unseen test dataset is also great and consistent. Our model is performing really well on\n",
    "the test dataset. Let us have a look at the loss curve for the model, just like we did for the regression use \n",
    "case. We will plot the loss in each epoch (15 in total for this mode) for the training and validation datasets.\n",
    "\"\"\"\n",
    "import matplotlib.pyplot as plt\n",
    "%matplotlib inline\n",
    "\n",
    "plt.plot(model.history.history['loss'])\n",
    "plt.plot(model.history.history['val_loss'])\n",
    "plt.title('Model Training & Validation loss across epochs')\n",
    "plt.ylabel('Loss')\n",
    "plt.xlabel('Epochs')\n",
    "plt.legend(['Train', 'Validation'], loc='upper right')\n",
    "plt.show()"
   ]
  },
  {
   "cell_type": "code",
   "execution_count": 42,
   "metadata": {},
   "outputs": [
    {
     "data": {
      "image/png": "[encoded data removed]",
      "text/plain": [
       "<Figure size 432x288 with 1 Axes>"
      ]
     },
     "metadata": {
      "needs_background": "light"
     },
     "output_type": "display_data"
    }
   ],
   "source": [
    "\"\"\"\n",
    "We can see decreasing loss across both datasets. Similarly, let’s have a look at the accuracy metric during the\n",
    "model training. The accuracy metric for the training and validation datasets is also stored in the model history.\n",
    "\"\"\"\n",
    "plt.plot(model.history.history['acc'])\n",
    "plt.plot(model.history.history['val_acc'])\n",
    "plt.title(\"Model's Training & Validation Accuracy across epochs\")\n",
    "plt.ylabel('Accuracy')\n",
    "plt.xlabel('Epochs')\n",
    "plt.legend(['Train', 'Validation'], loc='upper right')\n",
    "plt.show()"
   ]
  },
  {
   "cell_type": "code",
   "execution_count": null,
   "metadata": {},
   "outputs": [],
   "source": []
  }
 ],
 "metadata": {
  "kernelspec": {
   "display_name": "Python 3",
   "language": "python",
   "name": "python3"
  },
  "language_info": {
   "codemirror_mode": {
    "name": "ipython",
    "version": 3
   },
   "file_extension": ".py",
   "mimetype": "text/x-python",
   "name": "python",
   "nbconvert_exporter": "python",
   "pygments_lexer": "ipython3",
   "version": "3.6.8"
  }
 },
 "nbformat": 4,
 "nbformat_minor": 2
}
