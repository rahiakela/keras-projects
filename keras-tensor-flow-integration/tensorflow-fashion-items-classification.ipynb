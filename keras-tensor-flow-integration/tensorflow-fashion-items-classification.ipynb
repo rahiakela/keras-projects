{
  "nbformat": 4,
  "nbformat_minor": 0,
  "metadata": {
    "colab": {
      "name": "tensorflow-fashion-items-classification.ipynb",
      "version": "0.3.2",
      "provenance": []
    },
    "language_info": {
      "codemirror_mode": {
        "name": "ipython",
        "version": 3
      },
      "file_extension": ".py",
      "mimetype": "text/x-python",
      "name": "python",
      "nbconvert_exporter": "python",
      "pygments_lexer": "ipython3",
      "version": "3.6.8"
    },
    "kernelspec": {
      "display_name": "Python 3",
      "language": "python",
      "name": "python3"
    }
  },
  "cells": [
    {
      "cell_type": "code",
      "metadata": {
        "id": "8WJiXWwdHSmR",
        "colab_type": "code",
        "colab": {
          "base_uri": "https://localhost:8080/",
          "height": 35
        },
        "outputId": "54f975ac-a005-4cff-c51a-f1741f3715bb"
      },
      "source": [
        "################################################################\n",
        "#     Fashion MNIST : a neural network basic classification\n",
        "################################################################\n",
        "\"\"\"\n",
        "reference: https://www.tensorflow.org/tutorials/keras/basic_classification\n",
        "This guide trains a neural network model to classify images of clothing, like sneakers and shirts. \n",
        "This is a fast-paced overview of a complete TensorFlow program with the details explained as we go.\n",
        "\n",
        "This guide uses tf.keras, a high-level API to build and train models in TensorFlow.\n",
        "\"\"\"\n",
        "from __future__ import absolute_import, division, print_function\n",
        "\n",
        "# TensorFlow and tf.keras\n",
        "import tensorflow as tf\n",
        "from tensorflow import keras\n",
        "\n",
        "# Helper libraries\n",
        "import numpy as np \n",
        "import matplotlib.pyplot as plt\n",
        "\n",
        "print(tf.__version__)"
      ],
      "execution_count": 2,
      "outputs": [
        {
          "output_type": "stream",
          "text": [
            "1.13.1\n"
          ],
          "name": "stdout"
        }
      ]
    },
    {
      "cell_type": "code",
      "metadata": {
        "id": "L4xGcQncHSmd",
        "colab_type": "code",
        "colab": {
          "base_uri": "https://localhost:8080/",
          "height": 156
        },
        "outputId": "e5e7b60b-65b6-4ede-c1f3-ae9fc0288b9c"
      },
      "source": [
        "##########################################\n",
        "#     Import the Fashion MNIST dataset\n",
        "##########################################\n",
        "\"\"\"\n",
        "This guide uses the Fashion MNIST dataset which contains 70,000 grayscale images in 10 categories. The images\n",
        "show individual articles of clothing at low resolution (28 by 28 pixels).\n",
        "We will use 60,000 images to train the network and 10,000 images to evaluate how accurately the network learned\n",
        "to classify images. You can access the Fashion MNIST directly from TensorFlow, just import and load the data:\n",
        "\"\"\"\n",
        "fashion_mnist = keras.datasets.fashion_mnist\n",
        "\n",
        "(train_images, train_labels), (test_images, test_labels) = fashion_mnist.load_data()"
      ],
      "execution_count": 3,
      "outputs": [
        {
          "output_type": "stream",
          "text": [
            "Downloading data from https://storage.googleapis.com/tensorflow/tf-keras-datasets/train-labels-idx1-ubyte.gz\n",
            "32768/29515 [=================================] - 0s 0us/step\n",
            "Downloading data from https://storage.googleapis.com/tensorflow/tf-keras-datasets/train-images-idx3-ubyte.gz\n",
            "26427392/26421880 [==============================] - 0s 0us/step\n",
            "Downloading data from https://storage.googleapis.com/tensorflow/tf-keras-datasets/t10k-labels-idx1-ubyte.gz\n",
            "8192/5148 [===============================================] - 0s 0us/step\n",
            "Downloading data from https://storage.googleapis.com/tensorflow/tf-keras-datasets/t10k-images-idx3-ubyte.gz\n",
            "4423680/4422102 [==============================] - 0s 0us/step\n"
          ],
          "name": "stdout"
        }
      ]
    },
    {
      "cell_type": "code",
      "metadata": {
        "id": "-MMxhMhMHSmk",
        "colab_type": "code",
        "colab": {}
      },
      "source": [
        "\"\"\"\n",
        "The images are 28x28 NumPy arrays, with pixel values ranging between 0 and 255. The labels are an array of \n",
        "integers, ranging from 0 to 9. These correspond to the class of clothing the image represents:\n",
        "\n",
        "Label   \tClass\n",
        "0       \tT-shirt/top\n",
        "1       \tTrouser\n",
        "2       \tPullover\n",
        "3       \tDress\n",
        "4       \tCoat\n",
        "5       \tSandal\n",
        "6       \tShirt\n",
        "7       \tSneaker\n",
        "8       \tBag\n",
        "9       \tAnkle boot\n",
        "\n",
        "Each image is mapped to a single label. Since the class names are not included with the dataset, store them \n",
        "here to use later when plotting the images:\n",
        "\"\"\"\n",
        "class_names = [\n",
        "    'T-shirt/top', 'Trouser', 'Pullover', 'Dress', 'Coat', \n",
        "    'Sandal', 'Shirt', 'Sneaker', 'Bag', 'Ankle boot'\n",
        "]"
      ],
      "execution_count": 0,
      "outputs": []
    },
    {
      "cell_type": "code",
      "metadata": {
        "id": "MPteqb5FHSmp",
        "colab_type": "code",
        "colab": {
          "base_uri": "https://localhost:8080/",
          "height": 35
        },
        "outputId": "46b5752e-375d-4073-d336-6c9daf9b42d4"
      },
      "source": [
        "#########################################\n",
        "#       Explore the data\n",
        "#########################################\n",
        "\"\"\"\n",
        "Let's explore the format of the dataset before training the model. The following shows there are 60,000 images\n",
        "in the training set, with each image represented as 28 x 28 pixels.\n",
        "\"\"\"\n",
        "train_images.shape"
      ],
      "execution_count": 5,
      "outputs": [
        {
          "output_type": "execute_result",
          "data": {
            "text/plain": [
              "(60000, 28, 28)"
            ]
          },
          "metadata": {
            "tags": []
          },
          "execution_count": 5
        }
      ]
    },
    {
      "cell_type": "code",
      "metadata": {
        "id": "ZvYRNYnHHSm1",
        "colab_type": "code",
        "colab": {
          "base_uri": "https://localhost:8080/",
          "height": 35
        },
        "outputId": "7eb64450-7f22-4fb0-ee14-f97de3b9d1e7"
      },
      "source": [
        "# Likewise, there are 60,000 labels in the training set\n",
        "len(train_labels)"
      ],
      "execution_count": 6,
      "outputs": [
        {
          "output_type": "execute_result",
          "data": {
            "text/plain": [
              "60000"
            ]
          },
          "metadata": {
            "tags": []
          },
          "execution_count": 6
        }
      ]
    },
    {
      "cell_type": "code",
      "metadata": {
        "id": "OV1TNkDjHSm7",
        "colab_type": "code",
        "colab": {
          "base_uri": "https://localhost:8080/",
          "height": 35
        },
        "outputId": "63edb08d-0676-41a0-dfbd-d15d5b728862"
      },
      "source": [
        "# Each label is an integer between 0 and 9\n",
        "train_labels"
      ],
      "execution_count": 7,
      "outputs": [
        {
          "output_type": "execute_result",
          "data": {
            "text/plain": [
              "array([9, 0, 0, ..., 3, 0, 5], dtype=uint8)"
            ]
          },
          "metadata": {
            "tags": []
          },
          "execution_count": 7
        }
      ]
    },
    {
      "cell_type": "code",
      "metadata": {
        "id": "phugh3arHSnF",
        "colab_type": "code",
        "colab": {
          "base_uri": "https://localhost:8080/",
          "height": 35
        },
        "outputId": "3eb0f57c-edb4-48c2-abfb-59908731612f"
      },
      "source": [
        "# There are 10,000 images in the test set. Again, each image is represented as 28 x 28 pixels\n",
        "test_images.shape"
      ],
      "execution_count": 8,
      "outputs": [
        {
          "output_type": "execute_result",
          "data": {
            "text/plain": [
              "(10000, 28, 28)"
            ]
          },
          "metadata": {
            "tags": []
          },
          "execution_count": 8
        }
      ]
    },
    {
      "cell_type": "code",
      "metadata": {
        "id": "TKmdOEIPHSnM",
        "colab_type": "code",
        "colab": {
          "base_uri": "https://localhost:8080/",
          "height": 35
        },
        "outputId": "309e2cdc-d13c-44d8-f241-ed1331be09b2"
      },
      "source": [
        "# And the test set contains 10,000 images labels\n",
        "len(test_labels)"
      ],
      "execution_count": 9,
      "outputs": [
        {
          "output_type": "execute_result",
          "data": {
            "text/plain": [
              "10000"
            ]
          },
          "metadata": {
            "tags": []
          },
          "execution_count": 9
        }
      ]
    },
    {
      "cell_type": "code",
      "metadata": {
        "id": "Pm_s94hMHSnW",
        "colab_type": "code",
        "colab": {
          "base_uri": "https://localhost:8080/",
          "height": 269
        },
        "outputId": "b28273e1-224a-495a-a733-b983653d50e1"
      },
      "source": [
        "######################################\n",
        "#      Preprocess the data\n",
        "######################################\n",
        "\"\"\"\n",
        "The data must be preprocessed before training the network. If you inspect the first image in the training set, \n",
        "you will see that the pixel values fall in the range of 0 to 255.\n",
        "\"\"\"\n",
        "plt.figure()\n",
        "plt.imshow(train_images[0])\n",
        "plt.colorbar()\n",
        "plt.grid(False)\n",
        "plt.show()"
      ],
      "execution_count": 10,
      "outputs": [
        {
          "output_type": "display_data",
          "data": {
            "image/png": "[encoded data removed]",
            "text/plain": [
              "<Figure size 432x288 with 2 Axes>"
            ]
          },
          "metadata": {
            "tags": []
          }
        }
      ]
    },
    {
      "cell_type": "code",
      "metadata": {
        "id": "iJ3ljeGwHSni",
        "colab_type": "code",
        "colab": {}
      },
      "source": [
        "\"\"\"\n",
        "We scale these values to a range of 0 to 1 before feeding to the neural network model. For this, we divide \n",
        "the values by 255. It's important that the training set and the testing set are preprocessed in the same way.\n",
        "\"\"\"\n",
        "train_images = train_images / 255.0\n",
        "test_images = test_images / 255.0"
      ],
      "execution_count": 0,
      "outputs": []
    },
    {
      "cell_type": "code",
      "metadata": {
        "id": "rmAb5XysHSnn",
        "colab_type": "code",
        "colab": {
          "base_uri": "https://localhost:8080/",
          "height": 593
        },
        "outputId": "b4cfd0e6-3ebe-45f2-a302-506f8578155c"
      },
      "source": [
        "\"\"\"\n",
        "Display the first 25 images from the training set and display the class name below each image. \n",
        "Verify that the data is in the correct format and we're ready to build and train the network.\n",
        "\"\"\"\n",
        "plt.figure(figsize=(10, 10))\n",
        "for i in range(25):\n",
        "    plt.subplot(5, 5, i + 1)\n",
        "    plt.xticks([])\n",
        "    plt.yticks([])\n",
        "    plt.grid(False)\n",
        "    plt.imshow(train_images[i], cmap=plt.cm.binary)\n",
        "    plt.xlabel(class_names[train_labels[i]])\n",
        "plt.show()    "
      ],
      "execution_count": 12,
      "outputs": [
        {
          "output_type": "display_data",
          "data": {
            "image/png": "[encoded data removed]",
            "text/plain": [
              "<Figure size 720x720 with 25 Axes>"
            ]
          },
          "metadata": {
            "tags": []
          }
        }
      ]
    },
    {
      "cell_type": "code",
      "metadata": {
        "id": "ZjLkuy4yHSns",
        "colab_type": "code",
        "colab": {
          "base_uri": "https://localhost:8080/",
          "height": 89
        },
        "outputId": "5a91374d-6273-4b4b-89e5-03d82c780e93"
      },
      "source": [
        "#########################################\n",
        "#      Build the model\n",
        "#########################################\n",
        "\"\"\"\n",
        "Building the neural network requires configuring the layers of the model, then compiling the model.\n",
        "\n",
        "Setup the layers:\n",
        "\n",
        "The basic building block of a neural network is the layer. Layers extract representations from the data fed into\n",
        "them. And, hopefully, these representations are more meaningful for the problem at hand.\n",
        "\n",
        "Most of deep learning consists of chaining together simple layers. Most layers, like tf.keras.layers.Dense,\n",
        "have parameters that are learned during training.\n",
        "\n",
        "Explanation:\n",
        "The first layer in this network, tf.keras.layers.Flatten, transforms the format of the images from \n",
        "a 2d-array (of 28 by 28 pixels), to a 1d-array of 28 * 28 = 784 pixels. Think of this layer as unstacking \n",
        "rows of pixels in the image and lining them up. This layer has no parameters to learn; it only reformats the data.\n",
        "\n",
        "After the pixels are flattened, the network consists of a sequence of two tf.keras.layers.Dense layers. \n",
        "These are densely-connected, or fully-connected, neural layers. The first Dense layer has 128 nodes (or neurons).\n",
        "The second (and last) layer is a 10-node softmax layer—this returns an array of 10 probability scores \n",
        "that sum to 1. Each node contains a score that indicates the probability that the current image belongs to \n",
        "one of the 10 classes.\n",
        "\"\"\"\n",
        "model = keras.Sequential([\n",
        "    keras.layers.Flatten(input_shape=(28, 28)),\n",
        "    keras.layers.Dense(128, activation=tf.nn.relu),\n",
        "    keras.layers.Dense(10, activation=tf.nn.softmax)\n",
        "])"
      ],
      "execution_count": 13,
      "outputs": [
        {
          "output_type": "stream",
          "text": [
            "WARNING:tensorflow:From /usr/local/lib/python3.6/dist-packages/tensorflow/python/ops/resource_variable_ops.py:435: colocate_with (from tensorflow.python.framework.ops) is deprecated and will be removed in a future version.\n",
            "Instructions for updating:\n",
            "Colocations handled automatically by placer.\n"
          ],
          "name": "stdout"
        }
      ]
    },
    {
      "cell_type": "code",
      "metadata": {
        "id": "0c-owyxNHSnw",
        "colab_type": "code",
        "colab": {}
      },
      "source": [
        "##############################################\n",
        "#          Compile the model\n",
        "##############################################\n",
        "\"\"\"\n",
        "Before the model is ready for training, it needs a few more settings. These are added during the model's \n",
        "compile step:\n",
        "\n",
        "> Loss function —This measures how accurate the model is during training. We want to minimize this function\n",
        "                 to \"steer\" the model in the right direction.\n",
        "> Optimizer —This is how the model is updated based on the data it sees and its loss function.\n",
        "> Metrics —Used to monitor the training and testing steps. The following example uses accuracy, \n",
        "           the fraction of the images that are correctly classified.\n",
        "\"\"\"\n",
        "model.compile(optimizer='adam', loss='sparse_categorical_crossentropy', metrics=['accuracy'])"
      ],
      "execution_count": 0,
      "outputs": []
    },
    {
      "cell_type": "code",
      "metadata": {
        "id": "Fkg-NgVtHSn0",
        "colab_type": "code",
        "colab": {
          "base_uri": "https://localhost:8080/",
          "height": 228
        },
        "outputId": "be7a11fd-2eff-48d9-e02e-903e0b9a7b2b"
      },
      "source": [
        "#############################################\n",
        "#        Train the model\n",
        "#############################################\n",
        "\"\"\"\n",
        "Training the neural network model requires the following steps:\n",
        "\n",
        "1- Feed the training data to the model—in this example, the train_images and train_labels arrays.\n",
        "2- The model learns to associate images and labels.\n",
        "3- We ask the model to make predictions about a test set—in this example, the test_images array. \n",
        "   We verify that the predictions match the labels from the test_labels array.\n",
        "\"\"\"\n",
        "# To start training, call the model.fit method—the model is \"fit\" to the training data:\n",
        "hist = model.fit(train_images, train_labels, epochs=5)\n",
        "print(hist.history)"
      ],
      "execution_count": 15,
      "outputs": [
        {
          "output_type": "stream",
          "text": [
            "Epoch 1/5\n",
            "60000/60000 [==============================] - 8s 136us/sample - loss: 0.4995 - acc: 0.8248\n",
            "Epoch 2/5\n",
            "60000/60000 [==============================] - 7s 120us/sample - loss: 0.3770 - acc: 0.8637\n",
            "Epoch 3/5\n",
            "60000/60000 [==============================] - 7s 116us/sample - loss: 0.3355 - acc: 0.8786\n",
            "Epoch 4/5\n",
            "60000/60000 [==============================] - 8s 127us/sample - loss: 0.3127 - acc: 0.8855\n",
            "Epoch 5/5\n",
            "60000/60000 [==============================] - 7s 124us/sample - loss: 0.2961 - acc: 0.8906\n",
            "{'loss': [0.499502973540624, 0.37703657458225887, 0.3354629960298538, 0.3127413522521655, 0.29613470837871236], 'acc': [0.8247833, 0.86371666, 0.8785667, 0.8855, 0.89065]}\n"
          ],
          "name": "stdout"
        }
      ]
    },
    {
      "cell_type": "code",
      "metadata": {
        "id": "h7Qtd8GhHSn-",
        "colab_type": "code",
        "colab": {
          "base_uri": "https://localhost:8080/",
          "height": 52
        },
        "outputId": "6c3eb00e-a0ad-46d6-fb21-a6766f703eb8"
      },
      "source": [
        "\"\"\"\n",
        "As the model trains, the loss and accuracy metrics are displayed. This model reaches an accuracy of \n",
        "about 0.88 (or 88%) on the training data.\n",
        "\"\"\"\n",
        "\n",
        "###########################################\n",
        "#       Evaluate accuracy\n",
        "###########################################\n",
        "\"\"\"\n",
        "Next, compare how the model performs on the test dataset:\n",
        "\"\"\"\n",
        "test_loss, test_acc = model.evaluate(test_images, test_labels)\n",
        "print('Test accuracy:', test_acc)"
      ],
      "execution_count": 16,
      "outputs": [
        {
          "output_type": "stream",
          "text": [
            "10000/10000 [==============================] - 0s 47us/sample - loss: 0.3416 - acc: 0.8747\n",
            "Test accuracy: 0.8747\n"
          ],
          "name": "stdout"
        }
      ]
    },
    {
      "cell_type": "code",
      "metadata": {
        "id": "z0X5NXAUHSoG",
        "colab_type": "code",
        "colab": {
          "base_uri": "https://localhost:8080/",
          "height": 69
        },
        "outputId": "c668448e-1ed2-449a-c119-4467a0925aa7"
      },
      "source": [
        "\"\"\"\n",
        "It turns out, the accuracy on the test dataset is a little less than the accuracy on the training dataset.\n",
        "This gap between training accuracy and test accuracy is an example of overfitting. \n",
        "Overfitting is when a machine learning model performs worse on new data than on their training data.\n",
        "\"\"\"\n",
        "\n",
        "#######################################\n",
        "#      Make predictions\n",
        "#######################################\n",
        "\"\"\"\n",
        "With the model trained, we can use it to make predictions about some images.\n",
        "\"\"\"\n",
        "predictions = model.predict(test_images)\n",
        "\n",
        "\"\"\"\n",
        "Here, the model has predicted the label for each image in the testing set. Let's take a look at the first prediction:\n",
        "\"\"\"\n",
        "predictions[0]"
      ],
      "execution_count": 18,
      "outputs": [
        {
          "output_type": "execute_result",
          "data": {
            "text/plain": [
              "array([2.6370270e-07, 1.5681302e-08, 1.4398188e-07, 7.3386580e-08,\n",
              "       1.6821191e-06, 2.5382970e-02, 4.6135489e-07, 4.3471716e-03,\n",
              "       3.5588104e-07, 9.7026688e-01], dtype=float32)"
            ]
          },
          "metadata": {
            "tags": []
          },
          "execution_count": 18
        }
      ]
    },
    {
      "cell_type": "code",
      "metadata": {
        "id": "PGWsU7A9I4LB",
        "colab_type": "code",
        "colab": {
          "base_uri": "https://localhost:8080/",
          "height": 35
        },
        "outputId": "b75d1456-bc4d-4d15-d51c-8a23db0a9b6f"
      },
      "source": [
        "\"\"\"\n",
        "A prediction is an array of 10 numbers. These describe the \"confidence\" of the model that the image corresponds\n",
        "to each of the 10 different articles of clothing. We can see which label has the highest confidence value\n",
        "\"\"\"\n",
        "np.argmax(predictions[0])"
      ],
      "execution_count": 19,
      "outputs": [
        {
          "output_type": "execute_result",
          "data": {
            "text/plain": [
              "9"
            ]
          },
          "metadata": {
            "tags": []
          },
          "execution_count": 19
        }
      ]
    },
    {
      "cell_type": "code",
      "metadata": {
        "id": "DIx4ksyaJqdY",
        "colab_type": "code",
        "colab": {
          "base_uri": "https://localhost:8080/",
          "height": 35
        },
        "outputId": "109b4e23-8ff9-4f2a-c6cd-6b235899ff9b"
      },
      "source": [
        "\"\"\"\n",
        "So the model is most confident that this image is an ankle boot, or class_names[9].\n",
        "And we can check the test label to see this is correct:\n",
        "\"\"\"\n",
        "test_labels[0]"
      ],
      "execution_count": 20,
      "outputs": [
        {
          "output_type": "execute_result",
          "data": {
            "text/plain": [
              "9"
            ]
          },
          "metadata": {
            "tags": []
          },
          "execution_count": 20
        }
      ]
    },
    {
      "cell_type": "code",
      "metadata": {
        "id": "3J-kV2BkKYAU",
        "colab_type": "code",
        "colab": {}
      },
      "source": [
        "# We can graph this to look at the full set of 10 channels\n",
        "\n",
        "def plot_image(i, predictions_array, true_label, img):\n",
        "  predictions_array, true_label, img = predictions_array[i], true_label[i], img[i]\n",
        "  plt.grid(False)\n",
        "  plt.xticks([])\n",
        "  plt.yticks([])\n",
        "  \n",
        "  plt.imshow(img, cmap=plt.cm.binary)\n",
        "  \n",
        "  predicted_label = np.argmax(predictions_array)\n",
        "  if predicted_label == true_label:\n",
        "    color = 'blue'\n",
        "  else:\n",
        "    color = 'red'\n",
        "  \n",
        "  plt.xlabel(\"{} {:2.0f}% ({})\".format(class_names[predicted_label], 100*np.max(predictions_array), class_names[true_label]), color=color)\n",
        "  \n",
        "def plot_value_array(i, predictions_array, true_label):\n",
        "  predictions_array, true_label = predictions_array[i], true_label[i]\n",
        "  plt.grid(False)\n",
        "  plt.xticks([])\n",
        "  plt.yticks([])\n",
        "  thisplot = plt.bar(range(10), predictions_array, color='#777777')\n",
        "  plt.ylim([0, 1])\n",
        "  predicted_label = np.argmax(predictions_array)\n",
        "  \n",
        "  thisplot[predicted_label].set_color('red')\n",
        "  thisplot[true_label].set_color('blue')"
      ],
      "execution_count": 0,
      "outputs": []
    },
    {
      "cell_type": "code",
      "metadata": {
        "id": "1i51xF0UUIlx",
        "colab_type": "code",
        "colab": {
          "base_uri": "https://localhost:8080/",
          "height": 207
        },
        "outputId": "0a9c4507-e457-4827-f5f4-169a20ce0559"
      },
      "source": [
        "# Let's look at the 0th image, predictions, and prediction array\n",
        "i = 0\n",
        "plt.figure(figsize=(6, 3))\n",
        "plt.subplot(1, 2, 1)\n",
        "plot_image(i, predictions, test_labels, test_images)\n",
        "plt.subplot(1, 2, 2)\n",
        "plot_value_array(i, predictions, test_labels)\n",
        "plt.show()"
      ],
      "execution_count": 24,
      "outputs": [
        {
          "output_type": "display_data",
          "data": {
            "image/png": "[encoded data removed]",
            "text/plain": [
              "<Figure size 432x216 with 2 Axes>"
            ]
          },
          "metadata": {
            "tags": []
          }
        }
      ]
    },
    {
      "cell_type": "code",
      "metadata": {
        "id": "54Po37S3UqkC",
        "colab_type": "code",
        "colab": {
          "base_uri": "https://localhost:8080/",
          "height": 207
        },
        "outputId": "f374598a-37e9-4b89-c84d-4729964eddf2"
      },
      "source": [
        "i = 12\n",
        "plt.figure(figsize=(6, 3))\n",
        "plt.subplot(1, 2, 1)\n",
        "plot_image(i, predictions, test_labels, test_images)\n",
        "plt.subplot(1, 2, 2)\n",
        "plot_value_array(i, predictions, test_labels)\n",
        "plt.show()"
      ],
      "execution_count": 25,
      "outputs": [
        {
          "output_type": "display_data",
          "data": {
            "image/png": "[encoded data removed]",
            "text/plain": [
              "<Figure size 432x216 with 2 Axes>"
            ]
          },
          "metadata": {
            "tags": []
          }
        }
      ]
    },
    {
      "cell_type": "code",
      "metadata": {
        "id": "2erTeQB-VGsi",
        "colab_type": "code",
        "colab": {
          "base_uri": "https://localhost:8080/",
          "height": 593
        },
        "outputId": "45600d67-5093-40bf-f0dd-3e9a429cc1c7"
      },
      "source": [
        "\"\"\"\n",
        "Let's plot several images with their predictions. Correct prediction labels are blue and incorrect prediction labels are red. \n",
        "The number gives the percent (out of 100) for the predicted label. Note that it can be wrong even when very confident.\n",
        "\"\"\"\n",
        "# Plot the first X test images, their predicted label, and the true label\n",
        "# Color correct predictions in blue, incorrect predictions in red\n",
        "num_rows = 5\n",
        "num_cols = 3\n",
        "num_images = num_rows * num_cols\n",
        "plt.figure(figsize=(2 * 2 * num_cols, 2 * num_rows))\n",
        "for i in range(num_images):\n",
        "  plt.subplot(num_rows, 2 * num_cols, 2 * i + 1)\n",
        "  plot_image(i, predictions, test_labels, test_images)\n",
        "  plt.subplot(num_rows, 2 * num_cols, 2 * i + 2)\n",
        "  plot_value_array(i, predictions, test_labels)\n",
        "plt.show()  "
      ],
      "execution_count": 26,
      "outputs": [
        {
          "output_type": "display_data",
          "data": {
            "image/png": "[encoded data removed]",
            "text/plain": [
              "<Figure size 864x720 with 30 Axes>"
            ]
          },
          "metadata": {
            "tags": []
          }
        }
      ]
    },
    {
      "cell_type": "code",
      "metadata": {
        "id": "S4azCtD2WYV3",
        "colab_type": "code",
        "colab": {
          "base_uri": "https://localhost:8080/",
          "height": 35
        },
        "outputId": "07419a5d-a79d-4a64-d3ce-92dc80a4dfa3"
      },
      "source": [
        "# Finally, use the trained model to make a prediction about a single image.\n",
        "# Grab an image from the test dataset\n",
        "img = test_images[0]\n",
        "\n",
        "print(img.shape)"
      ],
      "execution_count": 27,
      "outputs": [
        {
          "output_type": "stream",
          "text": [
            "(28, 28)\n"
          ],
          "name": "stdout"
        }
      ]
    },
    {
      "cell_type": "code",
      "metadata": {
        "id": "wGPU0uPqWtBq",
        "colab_type": "code",
        "colab": {
          "base_uri": "https://localhost:8080/",
          "height": 35
        },
        "outputId": "78dfd76d-3f6c-409a-d4bc-80df44b2b399"
      },
      "source": [
        "\"\"\"\n",
        "tf.keras models are optimized to make predictions on a batch, or collection, of examples at once. \n",
        "So even though we're using a single image, we need to add it to a list:\n",
        "\"\"\"\n",
        "# Add the image to a batch where it's the only member\n",
        "img = (np.expand_dims(img, 0))\n",
        "\n",
        "print(img.shape)"
      ],
      "execution_count": 28,
      "outputs": [
        {
          "output_type": "stream",
          "text": [
            "(1, 28, 28)\n"
          ],
          "name": "stdout"
        }
      ]
    },
    {
      "cell_type": "code",
      "metadata": {
        "id": "GN4zj9JsXB-2",
        "colab_type": "code",
        "colab": {
          "base_uri": "https://localhost:8080/",
          "height": 52
        },
        "outputId": "41489aea-4ae1-4130-9b34-7c7be21b3d5e"
      },
      "source": [
        "# Now predict the image\n",
        "predictions_single = model.predict(img)\n",
        "\n",
        "print(predictions_single)"
      ],
      "execution_count": 29,
      "outputs": [
        {
          "output_type": "stream",
          "text": [
            "[[2.6370270e-07 1.5681302e-08 1.4398147e-07 7.3386431e-08 1.6821159e-06\n",
            "  2.5382970e-02 4.6135446e-07 4.3471693e-03 3.5588033e-07 9.7026688e-01]]\n"
          ],
          "name": "stdout"
        }
      ]
    },
    {
      "cell_type": "code",
      "metadata": {
        "id": "lrjv30OcXNim",
        "colab_type": "code",
        "colab": {
          "base_uri": "https://localhost:8080/",
          "height": 305
        },
        "outputId": "1a591cbb-8c35-41e6-d230-5b44c2bfe3fb"
      },
      "source": [
        "plot_value_array(0, predictions_single, test_labels)\n",
        "_ = plt.xticks(range(10), class_names, rotation=45)"
      ],
      "execution_count": 30,
      "outputs": [
        {
          "output_type": "display_data",
          "data": {
            "image/png": "[encoded data removed]",
            "text/plain": [
              "<Figure size 432x288 with 1 Axes>"
            ]
          },
          "metadata": {
            "tags": []
          }
        }
      ]
    },
    {
      "cell_type": "code",
      "metadata": {
        "id": "27rBIA36Xl0E",
        "colab_type": "code",
        "colab": {
          "base_uri": "https://localhost:8080/",
          "height": 35
        },
        "outputId": "a7ab81fb-0ae7-4cfa-e46a-2720ab954f26"
      },
      "source": [
        "\"\"\"\n",
        "model.predict returns a list of lists, one for each image in the batch of data.\n",
        "Grab the predictions for our (only) image in the batch\n",
        "\"\"\"\n",
        "np.argmax(predictions_single[0])"
      ],
      "execution_count": 31,
      "outputs": [
        {
          "output_type": "execute_result",
          "data": {
            "text/plain": [
              "9"
            ]
          },
          "metadata": {
            "tags": []
          },
          "execution_count": 31
        }
      ]
    },
    {
      "cell_type": "code",
      "metadata": {
        "id": "kKDMGHlgX1tl",
        "colab_type": "code",
        "colab": {
          "base_uri": "https://localhost:8080/",
          "height": 35
        },
        "outputId": "5f38a22f-0f0c-4f33-ec52-9e6e0fd2e69d"
      },
      "source": [
        "# And, as before, the model predicts a label of 9\n",
        "print(class_names[9])"
      ],
      "execution_count": 32,
      "outputs": [
        {
          "output_type": "stream",
          "text": [
            "Ankle boot\n"
          ],
          "name": "stdout"
        }
      ]
    }
  ]
}